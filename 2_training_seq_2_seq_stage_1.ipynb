{
 "cells": [
  {
   "cell_type": "code",
   "execution_count": 1,
   "id": "ceea3780-f7c5-440f-98af-3672da4b8394",
   "metadata": {},
   "outputs": [
    {
     "name": "stderr",
     "output_type": "stream",
     "text": [
      "2025-06-10 11:35:32.014384: I tensorflow/core/util/port.cc:113] oneDNN custom operations are on. You may see slightly different numerical results due to floating-point round-off errors from different computation orders. To turn them off, set the environment variable `TF_ENABLE_ONEDNN_OPTS=0`.\n",
      "2025-06-10 11:35:32.051698: E external/local_xla/xla/stream_executor/cuda/cuda_dnn.cc:9261] Unable to register cuDNN factory: Attempting to register factory for plugin cuDNN when one has already been registered\n",
      "2025-06-10 11:35:32.051725: E external/local_xla/xla/stream_executor/cuda/cuda_fft.cc:607] Unable to register cuFFT factory: Attempting to register factory for plugin cuFFT when one has already been registered\n",
      "2025-06-10 11:35:32.052635: E external/local_xla/xla/stream_executor/cuda/cuda_blas.cc:1515] Unable to register cuBLAS factory: Attempting to register factory for plugin cuBLAS when one has already been registered\n",
      "2025-06-10 11:35:32.059150: I tensorflow/core/platform/cpu_feature_guard.cc:182] This TensorFlow binary is optimized to use available CPU instructions in performance-critical operations.\n",
      "To enable the following instructions: SSE4.1 SSE4.2 AVX AVX2 AVX512F AVX512_VNNI FMA, in other operations, rebuild TensorFlow with the appropriate compiler flags.\n"
     ]
    }
   ],
   "source": [
    "import numpy as np\n",
    "import tensorflow as tf\n",
    "import os"
   ]
  },
  {
   "cell_type": "code",
   "execution_count": 2,
   "id": "035b59f2-8d38-469f-831d-9fad68e87244",
   "metadata": {},
   "outputs": [
    {
     "data": {
      "text/plain": [
       "[PhysicalDevice(name='/physical_device:GPU:0', device_type='GPU')]"
      ]
     },
     "execution_count": 2,
     "metadata": {},
     "output_type": "execute_result"
    }
   ],
   "source": [
    "tf.config.list_physical_devices(\"GPU\")"
   ]
  },
  {
   "cell_type": "code",
   "execution_count": 3,
   "id": "a199cc95-af00-4158-801b-eb41a84dd538",
   "metadata": {},
   "outputs": [],
   "source": [
    "# import the train and validation data\n",
    "all_train_data = os.listdir(\"seq_2_seq_train_data\")"
   ]
  },
  {
   "cell_type": "code",
   "execution_count": 4,
   "id": "5054dbd5-a659-45a4-9ded-13565b4f9fcb",
   "metadata": {},
   "outputs": [],
   "source": [
    "# get the inputs and targets separated\n",
    "all_train_input_files = [file for file in all_train_data if file.split('.')[0][-14:] == 'input_features']\n",
    "all_train_target_files = [file for file in all_train_data if file.split('.')[0][-15:] == 'target_features']"
   ]
  },
  {
   "cell_type": "code",
   "execution_count": 5,
   "id": "e1b8c827-11df-44bf-9b28-c9b8578f5bbc",
   "metadata": {},
   "outputs": [
    {
     "data": {
      "text/plain": [
       "['block_0101_extracted_input_features.npy',\n",
       " 'block_0102_extracted_input_features.npy',\n",
       " 'block_0203_extracted_input_features.npy',\n",
       " 'block_0301_extracted_input_features.npy']"
      ]
     },
     "execution_count": 5,
     "metadata": {},
     "output_type": "execute_result"
    }
   ],
   "source": [
    "all_train_input_files.sort()\n",
    "all_train_input_files"
   ]
  },
  {
   "cell_type": "code",
   "execution_count": 6,
   "id": "21030158-2dfa-4339-a349-9e4bf58382aa",
   "metadata": {},
   "outputs": [
    {
     "data": {
      "text/plain": [
       "['block_0101_extracted_target_features.npy',\n",
       " 'block_0102_extracted_target_features.npy',\n",
       " 'block_0203_extracted_target_features.npy',\n",
       " 'block_0301_extracted_target_features.npy']"
      ]
     },
     "execution_count": 6,
     "metadata": {},
     "output_type": "execute_result"
    }
   ],
   "source": [
    "all_train_target_files.sort()\n",
    "all_train_target_files"
   ]
  },
  {
   "cell_type": "code",
   "execution_count": 7,
   "id": "2bd24228-4960-409e-850b-31c0665129c4",
   "metadata": {},
   "outputs": [],
   "source": [
    "# load the files\n",
    "loaded_all_train_input_files = [np.load(os.path.join(\"seq_2_seq_train_data\", file)) for file in all_train_input_files]\n",
    "loaded_all_train_target_files = [np.load(os.path.join(\"seq_2_seq_train_data\", file)) for file in all_train_target_files]"
   ]
  },
  {
   "cell_type": "code",
   "execution_count": 8,
   "id": "6b8dfd07-7a8d-4984-9772-717520fc2318",
   "metadata": {},
   "outputs": [],
   "source": [
    "# stack the files in the list\n",
    "X_train = np.vstack(loaded_all_train_input_files)"
   ]
  },
  {
   "cell_type": "code",
   "execution_count": 9,
   "id": "0b1666a1-1135-4e4f-ad41-9fc065f69fb6",
   "metadata": {},
   "outputs": [
    {
     "data": {
      "text/plain": [
       "(3640, 13, 32)"
      ]
     },
     "execution_count": 9,
     "metadata": {},
     "output_type": "execute_result"
    }
   ],
   "source": [
    "X_train.shape"
   ]
  },
  {
   "cell_type": "code",
   "execution_count": 10,
   "id": "11808c0c-a01f-4abb-b2c3-f332023d118a",
   "metadata": {},
   "outputs": [],
   "source": [
    "y_train = np.vstack(loaded_all_train_target_files)"
   ]
  },
  {
   "cell_type": "code",
   "execution_count": 11,
   "id": "963e0e71-a5f1-4521-b8f0-dd12c7bcf2c7",
   "metadata": {},
   "outputs": [
    {
     "data": {
      "text/plain": [
       "(3640, 7, 32)"
      ]
     },
     "execution_count": 11,
     "metadata": {},
     "output_type": "execute_result"
    }
   ],
   "source": [
    "y_train.shape"
   ]
  },
  {
   "cell_type": "code",
   "execution_count": 12,
   "id": "0a800045-141a-4589-8b82-dae698c48ea8",
   "metadata": {},
   "outputs": [
    {
     "data": {
      "text/plain": [
       "['block_0204_extracted_input_features.npy',\n",
       " 'block_0204_extracted_target_features.npy']"
      ]
     },
     "execution_count": 12,
     "metadata": {},
     "output_type": "execute_result"
    }
   ],
   "source": [
    "# load validation data\n",
    "os.listdir(\"seq_2_seq_valid_data\")"
   ]
  },
  {
   "cell_type": "code",
   "execution_count": 13,
   "id": "89b8e217-08a6-4d54-8c5f-f58ebf91f077",
   "metadata": {},
   "outputs": [],
   "source": [
    "X_valid = np.load(os.path.join(\"seq_2_seq_valid_data\", \"block_0204_extracted_input_features.npy\"))"
   ]
  },
  {
   "cell_type": "code",
   "execution_count": 14,
   "id": "60811b5a-bc7a-4399-8957-74b777a23943",
   "metadata": {},
   "outputs": [
    {
     "data": {
      "text/plain": [
       "(910, 13, 32)"
      ]
     },
     "execution_count": 14,
     "metadata": {},
     "output_type": "execute_result"
    }
   ],
   "source": [
    "X_valid.shape"
   ]
  },
  {
   "cell_type": "code",
   "execution_count": 15,
   "id": "05028ed0-e683-42fb-92e8-3196b6b51b81",
   "metadata": {},
   "outputs": [],
   "source": [
    "y_valid = np.load(os.path.join(\"seq_2_seq_valid_data\", \"block_0204_extracted_target_features.npy\"))"
   ]
  },
  {
   "cell_type": "code",
   "execution_count": 16,
   "id": "f053be51-1cb6-4fc8-bd08-ab825d85c96e",
   "metadata": {},
   "outputs": [
    {
     "data": {
      "text/plain": [
       "(910, 7, 32)"
      ]
     },
     "execution_count": 16,
     "metadata": {},
     "output_type": "execute_result"
    }
   ],
   "source": [
    "y_valid.shape"
   ]
  },
  {
   "cell_type": "code",
   "execution_count": 17,
   "id": "965aa1fa-4ba1-4ef2-8fb3-f4e5bfb30bf5",
   "metadata": {},
   "outputs": [
    {
     "name": "stdout",
     "output_type": "stream",
     "text": [
      "WARNING:tensorflow:Layer lstm will not use cuDNN kernels since it doesn't meet the criteria. It will use a generic GPU kernel as fallback when running on GPU.\n"
     ]
    },
    {
     "name": "stderr",
     "output_type": "stream",
     "text": [
      "2025-06-10 11:35:33.920282: I tensorflow/core/common_runtime/gpu/gpu_device.cc:1929] Created device /job:localhost/replica:0/task:0/device:GPU:0 with 495 MB memory:  -> device: 0, name: Tesla V100S-PCIE-32GB, pci bus id: 0000:06:00.0, compute capability: 7.0\n"
     ]
    },
    {
     "name": "stdout",
     "output_type": "stream",
     "text": [
      "WARNING:tensorflow:Layer lstm_1 will not use cuDNN kernels since it doesn't meet the criteria. It will use a generic GPU kernel as fallback when running on GPU.\n",
      "Model: \"model\"\n",
      "__________________________________________________________________________________________________\n",
      " Layer (type)                Output Shape                 Param #   Connected to                  \n",
      "==================================================================================================\n",
      " input_1 (InputLayer)        [(None, 13, 32)]             0         []                            \n",
      "                                                                                                  \n",
      " lstm (LSTM)                 [(None, 64),                 24832     ['input_1[0][0]']             \n",
      "                              (None, 64),                                                         \n",
      "                              (None, 64)]                                                         \n",
      "                                                                                                  \n",
      " repeat_vector (RepeatVecto  (None, 7, 64)                0         ['lstm[0][0]']                \n",
      " r)                                                                                               \n",
      "                                                                                                  \n",
      " lstm_1 (LSTM)               (None, 7, 64)                33024     ['repeat_vector[0][0]',       \n",
      "                                                                     'lstm[0][1]',                \n",
      "                                                                     'lstm[0][2]']                \n",
      "                                                                                                  \n",
      " dense (Dense)               (None, 7, 32)                2080      ['lstm_1[0][0]']              \n",
      "                                                                                                  \n",
      "==================================================================================================\n",
      "Total params: 59936 (234.12 KB)\n",
      "Trainable params: 59936 (234.12 KB)\n",
      "Non-trainable params: 0 (0.00 Byte)\n",
      "__________________________________________________________________________________________________\n"
     ]
    }
   ],
   "source": [
    "# Define the model\n",
    "def create_sequence_to_sequence_model(input_timesteps, input_features, output_timesteps):\n",
    "    # Input layer for the encoder\n",
    "    inputs = tf.keras.layers.Input(shape=(input_timesteps, input_features))\n",
    "\n",
    "    # Encoder LSTM\n",
    "    encoder = tf.keras.layers.LSTM(64, activation='relu', return_state=True, return_sequences=False)\n",
    "    encoder_outputs, state_h, state_c = encoder(inputs)\n",
    "\n",
    "    # Decoder LSTM: We now provide the encoder's state and initialize it with the encoder's final states\n",
    "    # We reshape the output of the encoder to make sure it is in the expected form for the decoder\n",
    "    decoder_input = tf.keras.layers.RepeatVector(output_timesteps)(encoder_outputs)\n",
    "\n",
    "    # Decoder LSTM, where the output sequence length is `output_timesteps` (7)\n",
    "    decoder_lstm = tf.keras.layers.LSTM(64, activation='relu', return_sequences=True)\n",
    "    decoder_outputs = decoder_lstm(decoder_input, initial_state=[state_h, state_c])\n",
    "\n",
    "    # Dense layer to predict the next 7 time periods (each with 32 features)\n",
    "    outputs = tf.keras.layers.Dense(input_features)(decoder_outputs)\n",
    "\n",
    "    # Create the model\n",
    "    model = tf.keras.models.Model(inputs, outputs)\n",
    "    \n",
    "    # Compile the model\n",
    "    opt = tf.keras.optimizers.Adam(learning_rate=0.001)\n",
    "    model.compile(loss='mean_squared_error', optimizer=opt, metrics = ['mean_absolute_error'])\n",
    "    \n",
    "    return model\n",
    "\n",
    "# Define the input shape and output shape\n",
    "input_timesteps = 13  # 12 time periods\n",
    "input_features = 32   # 32 features per time period\n",
    "output_timesteps = 7  # Predict the next 7 time periods\n",
    "\n",
    "# Create the model\n",
    "model = create_sequence_to_sequence_model(input_timesteps, input_features, output_timesteps)\n",
    "\n",
    "# Summarize the model\n",
    "model.summary()\n"
   ]
  },
  {
   "cell_type": "code",
   "execution_count": 18,
   "id": "e3c42cd6-d19e-4904-9706-9f679ca5614d",
   "metadata": {},
   "outputs": [],
   "source": [
    "# Decide on early stopping criteria\n",
    "es = tf.keras.callbacks.EarlyStopping(monitor='val_loss', restore_best_weights = True, verbose=1, patience=15) "
   ]
  },
  {
   "cell_type": "code",
   "execution_count": 19,
   "id": "3fd36a1b-b933-4b21-a1c0-ecaf272247b2",
   "metadata": {
    "scrolled": true
   },
   "outputs": [
    {
     "name": "stdout",
     "output_type": "stream",
     "text": [
      "Epoch 1/300\n"
     ]
    },
    {
     "name": "stderr",
     "output_type": "stream",
     "text": [
      "2025-06-10 11:35:36.385033: I external/local_xla/xla/service/service.cc:168] XLA service 0x5606c0b68ca0 initialized for platform CUDA (this does not guarantee that XLA will be used). Devices:\n",
      "2025-06-10 11:35:36.385064: I external/local_xla/xla/service/service.cc:176]   StreamExecutor device (0): Tesla V100S-PCIE-32GB, Compute Capability 7.0\n",
      "2025-06-10 11:35:36.392252: I tensorflow/compiler/mlir/tensorflow/utils/dump_mlir_util.cc:269] disabling MLIR crash reproducer, set env var `MLIR_CRASH_REPRODUCER_DIRECTORY` to enable.\n",
      "2025-06-10 11:35:36.407786: I external/local_xla/xla/stream_executor/cuda/cuda_dnn.cc:454] Loaded cuDNN version 8907\n",
      "WARNING: All log messages before absl::InitializeLog() is called are written to STDERR\n",
      "I0000 00:00:1749573336.502392 3861112 device_compiler.h:186] Compiled cluster using XLA!  This line is logged at most once for the lifetime of the process.\n"
     ]
    },
    {
     "name": "stdout",
     "output_type": "stream",
     "text": [
      "4/4 [==============================] - 3s 126ms/step - loss: 0.5059 - mean_absolute_error: 0.3934 - val_loss: 0.4715 - val_mean_absolute_error: 0.3786\n",
      "Epoch 2/300\n",
      "4/4 [==============================] - 0s 39ms/step - loss: 0.4274 - mean_absolute_error: 0.3606 - val_loss: 0.3780 - val_mean_absolute_error: 0.3518\n",
      "Epoch 3/300\n",
      "4/4 [==============================] - 0s 41ms/step - loss: 0.3296 - mean_absolute_error: 0.3331 - val_loss: 0.2967 - val_mean_absolute_error: 0.3453\n",
      "Epoch 4/300\n",
      "4/4 [==============================] - 0s 36ms/step - loss: 0.2543 - mean_absolute_error: 0.3114 - val_loss: 0.2167 - val_mean_absolute_error: 0.2927\n",
      "Epoch 5/300\n",
      "4/4 [==============================] - 0s 37ms/step - loss: 0.1977 - mean_absolute_error: 0.2779 - val_loss: 0.1857 - val_mean_absolute_error: 0.2831\n",
      "Epoch 6/300\n",
      "4/4 [==============================] - 0s 37ms/step - loss: 0.1645 - mean_absolute_error: 0.2561 - val_loss: 0.1516 - val_mean_absolute_error: 0.2368\n",
      "Epoch 7/300\n",
      "4/4 [==============================] - 0s 40ms/step - loss: 0.1374 - mean_absolute_error: 0.2203 - val_loss: 0.1407 - val_mean_absolute_error: 0.2245\n",
      "Epoch 8/300\n",
      "4/4 [==============================] - 0s 42ms/step - loss: 0.1255 - mean_absolute_error: 0.2112 - val_loss: 0.1268 - val_mean_absolute_error: 0.2093\n",
      "Epoch 9/300\n",
      "4/4 [==============================] - 0s 37ms/step - loss: 0.1160 - mean_absolute_error: 0.1980 - val_loss: 0.1212 - val_mean_absolute_error: 0.1994\n",
      "Epoch 10/300\n",
      "4/4 [==============================] - 0s 34ms/step - loss: 0.1104 - mean_absolute_error: 0.1893 - val_loss: 0.1196 - val_mean_absolute_error: 0.1968\n",
      "Epoch 11/300\n",
      "4/4 [==============================] - 0s 39ms/step - loss: 0.1075 - mean_absolute_error: 0.1851 - val_loss: 0.1150 - val_mean_absolute_error: 0.1868\n",
      "Epoch 12/300\n",
      "4/4 [==============================] - 0s 35ms/step - loss: 0.1050 - mean_absolute_error: 0.1768 - val_loss: 0.1154 - val_mean_absolute_error: 0.1805\n",
      "Epoch 13/300\n",
      "4/4 [==============================] - 0s 41ms/step - loss: 0.1038 - mean_absolute_error: 0.1717 - val_loss: 0.1134 - val_mean_absolute_error: 0.1785\n",
      "Epoch 14/300\n",
      "4/4 [==============================] - 0s 41ms/step - loss: 0.1031 - mean_absolute_error: 0.1711 - val_loss: 0.1131 - val_mean_absolute_error: 0.1782\n",
      "Epoch 15/300\n",
      "4/4 [==============================] - 0s 33ms/step - loss: 0.1025 - mean_absolute_error: 0.1698 - val_loss: 0.1131 - val_mean_absolute_error: 0.1753\n",
      "Epoch 16/300\n",
      "4/4 [==============================] - 0s 32ms/step - loss: 0.1020 - mean_absolute_error: 0.1666 - val_loss: 0.1121 - val_mean_absolute_error: 0.1732\n",
      "Epoch 17/300\n",
      "4/4 [==============================] - 0s 37ms/step - loss: 0.1016 - mean_absolute_error: 0.1652 - val_loss: 0.1121 - val_mean_absolute_error: 0.1722\n",
      "Epoch 18/300\n",
      "4/4 [==============================] - 0s 38ms/step - loss: 0.1014 - mean_absolute_error: 0.1641 - val_loss: 0.1116 - val_mean_absolute_error: 0.1710\n",
      "Epoch 19/300\n",
      "4/4 [==============================] - 0s 36ms/step - loss: 0.1012 - mean_absolute_error: 0.1631 - val_loss: 0.1113 - val_mean_absolute_error: 0.1706\n",
      "Epoch 20/300\n",
      "4/4 [==============================] - 0s 38ms/step - loss: 0.1010 - mean_absolute_error: 0.1630 - val_loss: 0.1117 - val_mean_absolute_error: 0.1700\n",
      "Epoch 21/300\n",
      "4/4 [==============================] - 0s 39ms/step - loss: 0.1008 - mean_absolute_error: 0.1621 - val_loss: 0.1116 - val_mean_absolute_error: 0.1691\n",
      "Epoch 22/300\n",
      "4/4 [==============================] - 0s 35ms/step - loss: 0.1008 - mean_absolute_error: 0.1612 - val_loss: 0.1107 - val_mean_absolute_error: 0.1690\n",
      "Epoch 23/300\n",
      "4/4 [==============================] - 0s 39ms/step - loss: 0.1007 - mean_absolute_error: 0.1612 - val_loss: 0.1115 - val_mean_absolute_error: 0.1683\n",
      "Epoch 24/300\n",
      "4/4 [==============================] - 0s 35ms/step - loss: 0.1004 - mean_absolute_error: 0.1603 - val_loss: 0.1106 - val_mean_absolute_error: 0.1680\n",
      "Epoch 25/300\n",
      "4/4 [==============================] - 0s 34ms/step - loss: 0.1005 - mean_absolute_error: 0.1601 - val_loss: 0.1108 - val_mean_absolute_error: 0.1673\n",
      "Epoch 26/300\n",
      "4/4 [==============================] - 0s 40ms/step - loss: 0.1003 - mean_absolute_error: 0.1599 - val_loss: 0.1113 - val_mean_absolute_error: 0.1669\n",
      "Epoch 27/300\n",
      "4/4 [==============================] - 0s 37ms/step - loss: 0.1003 - mean_absolute_error: 0.1591 - val_loss: 0.1104 - val_mean_absolute_error: 0.1668\n",
      "Epoch 28/300\n",
      "4/4 [==============================] - 0s 38ms/step - loss: 0.1002 - mean_absolute_error: 0.1591 - val_loss: 0.1115 - val_mean_absolute_error: 0.1665\n",
      "Epoch 29/300\n",
      "4/4 [==============================] - 0s 37ms/step - loss: 0.1002 - mean_absolute_error: 0.1589 - val_loss: 0.1105 - val_mean_absolute_error: 0.1661\n",
      "Epoch 30/300\n",
      "4/4 [==============================] - 0s 33ms/step - loss: 0.1001 - mean_absolute_error: 0.1584 - val_loss: 0.1103 - val_mean_absolute_error: 0.1662\n",
      "Epoch 31/300\n",
      "4/4 [==============================] - 0s 39ms/step - loss: 0.1001 - mean_absolute_error: 0.1591 - val_loss: 0.1117 - val_mean_absolute_error: 0.1661\n",
      "Epoch 32/300\n",
      "4/4 [==============================] - 0s 37ms/step - loss: 0.1001 - mean_absolute_error: 0.1581 - val_loss: 0.1101 - val_mean_absolute_error: 0.1661\n",
      "Epoch 33/300\n",
      "4/4 [==============================] - 0s 31ms/step - loss: 0.0999 - mean_absolute_error: 0.1582 - val_loss: 0.1114 - val_mean_absolute_error: 0.1656\n",
      "Epoch 34/300\n",
      "4/4 [==============================] - 0s 36ms/step - loss: 0.0998 - mean_absolute_error: 0.1578 - val_loss: 0.1101 - val_mean_absolute_error: 0.1656\n",
      "Epoch 35/300\n",
      "4/4 [==============================] - 0s 39ms/step - loss: 0.0997 - mean_absolute_error: 0.1579 - val_loss: 0.1110 - val_mean_absolute_error: 0.1652\n",
      "Epoch 36/300\n",
      "4/4 [==============================] - 0s 38ms/step - loss: 0.0996 - mean_absolute_error: 0.1575 - val_loss: 0.1099 - val_mean_absolute_error: 0.1655\n",
      "Epoch 37/300\n",
      "4/4 [==============================] - 0s 38ms/step - loss: 0.0996 - mean_absolute_error: 0.1578 - val_loss: 0.1118 - val_mean_absolute_error: 0.1658\n",
      "Epoch 38/300\n",
      "4/4 [==============================] - 0s 37ms/step - loss: 0.0997 - mean_absolute_error: 0.1576 - val_loss: 0.1098 - val_mean_absolute_error: 0.1662\n",
      "Epoch 39/300\n",
      "4/4 [==============================] - 0s 34ms/step - loss: 0.0997 - mean_absolute_error: 0.1580 - val_loss: 0.1113 - val_mean_absolute_error: 0.1650\n",
      "Epoch 40/300\n",
      "4/4 [==============================] - 0s 39ms/step - loss: 0.0996 - mean_absolute_error: 0.1575 - val_loss: 0.1099 - val_mean_absolute_error: 0.1648\n",
      "Epoch 41/300\n",
      "4/4 [==============================] - 0s 35ms/step - loss: 0.0994 - mean_absolute_error: 0.1569 - val_loss: 0.1101 - val_mean_absolute_error: 0.1645\n",
      "Epoch 42/300\n",
      "4/4 [==============================] - 0s 36ms/step - loss: 0.0995 - mean_absolute_error: 0.1574 - val_loss: 0.1109 - val_mean_absolute_error: 0.1646\n",
      "Epoch 43/300\n",
      "4/4 [==============================] - 0s 36ms/step - loss: 0.0995 - mean_absolute_error: 0.1569 - val_loss: 0.1096 - val_mean_absolute_error: 0.1651\n",
      "Epoch 44/300\n",
      "4/4 [==============================] - 0s 39ms/step - loss: 0.0994 - mean_absolute_error: 0.1571 - val_loss: 0.1102 - val_mean_absolute_error: 0.1642\n",
      "Epoch 45/300\n",
      "4/4 [==============================] - 0s 36ms/step - loss: 0.0992 - mean_absolute_error: 0.1569 - val_loss: 0.1100 - val_mean_absolute_error: 0.1642\n",
      "Epoch 46/300\n",
      "4/4 [==============================] - 0s 31ms/step - loss: 0.0991 - mean_absolute_error: 0.1565 - val_loss: 0.1096 - val_mean_absolute_error: 0.1645\n",
      "Epoch 47/300\n",
      "4/4 [==============================] - 0s 37ms/step - loss: 0.0992 - mean_absolute_error: 0.1571 - val_loss: 0.1108 - val_mean_absolute_error: 0.1644\n",
      "Epoch 48/300\n",
      "4/4 [==============================] - 0s 36ms/step - loss: 0.0990 - mean_absolute_error: 0.1564 - val_loss: 0.1095 - val_mean_absolute_error: 0.1646\n",
      "Epoch 49/300\n",
      "4/4 [==============================] - 0s 34ms/step - loss: 0.0992 - mean_absolute_error: 0.1569 - val_loss: 0.1106 - val_mean_absolute_error: 0.1642\n",
      "Epoch 50/300\n",
      "4/4 [==============================] - 0s 38ms/step - loss: 0.0990 - mean_absolute_error: 0.1568 - val_loss: 0.1097 - val_mean_absolute_error: 0.1640\n",
      "Epoch 51/300\n",
      "4/4 [==============================] - 0s 38ms/step - loss: 0.0990 - mean_absolute_error: 0.1562 - val_loss: 0.1095 - val_mean_absolute_error: 0.1641\n",
      "Epoch 52/300\n",
      "4/4 [==============================] - 0s 40ms/step - loss: 0.0989 - mean_absolute_error: 0.1565 - val_loss: 0.1100 - val_mean_absolute_error: 0.1638\n",
      "Epoch 53/300\n",
      "4/4 [==============================] - 0s 37ms/step - loss: 0.0988 - mean_absolute_error: 0.1561 - val_loss: 0.1094 - val_mean_absolute_error: 0.1640\n",
      "Epoch 54/300\n",
      "4/4 [==============================] - 0s 37ms/step - loss: 0.0988 - mean_absolute_error: 0.1562 - val_loss: 0.1097 - val_mean_absolute_error: 0.1637\n",
      "Epoch 55/300\n",
      "4/4 [==============================] - 0s 33ms/step - loss: 0.0987 - mean_absolute_error: 0.1562 - val_loss: 0.1096 - val_mean_absolute_error: 0.1637\n",
      "Epoch 56/300\n",
      "4/4 [==============================] - 0s 32ms/step - loss: 0.0986 - mean_absolute_error: 0.1559 - val_loss: 0.1097 - val_mean_absolute_error: 0.1636\n",
      "Epoch 57/300\n",
      "4/4 [==============================] - 0s 36ms/step - loss: 0.0986 - mean_absolute_error: 0.1559 - val_loss: 0.1097 - val_mean_absolute_error: 0.1636\n",
      "Epoch 58/300\n",
      "4/4 [==============================] - 0s 36ms/step - loss: 0.0986 - mean_absolute_error: 0.1558 - val_loss: 0.1092 - val_mean_absolute_error: 0.1639\n",
      "Epoch 59/300\n",
      "4/4 [==============================] - 0s 34ms/step - loss: 0.0986 - mean_absolute_error: 0.1560 - val_loss: 0.1098 - val_mean_absolute_error: 0.1635\n",
      "Epoch 60/300\n",
      "4/4 [==============================] - 0s 36ms/step - loss: 0.0985 - mean_absolute_error: 0.1560 - val_loss: 0.1097 - val_mean_absolute_error: 0.1634\n",
      "Epoch 61/300\n",
      "4/4 [==============================] - 0s 40ms/step - loss: 0.0986 - mean_absolute_error: 0.1557 - val_loss: 0.1091 - val_mean_absolute_error: 0.1640\n",
      "Epoch 62/300\n",
      "4/4 [==============================] - 0s 33ms/step - loss: 0.0984 - mean_absolute_error: 0.1556 - val_loss: 0.1100 - val_mean_absolute_error: 0.1632\n",
      "Epoch 63/300\n",
      "4/4 [==============================] - 0s 37ms/step - loss: 0.0983 - mean_absolute_error: 0.1555 - val_loss: 0.1090 - val_mean_absolute_error: 0.1635\n",
      "Epoch 64/300\n",
      "4/4 [==============================] - 0s 33ms/step - loss: 0.0984 - mean_absolute_error: 0.1554 - val_loss: 0.1090 - val_mean_absolute_error: 0.1633\n",
      "Epoch 65/300\n",
      "4/4 [==============================] - 0s 36ms/step - loss: 0.0983 - mean_absolute_error: 0.1554 - val_loss: 0.1097 - val_mean_absolute_error: 0.1630\n",
      "Epoch 66/300\n",
      "4/4 [==============================] - 0s 39ms/step - loss: 0.0982 - mean_absolute_error: 0.1552 - val_loss: 0.1090 - val_mean_absolute_error: 0.1629\n",
      "Epoch 67/300\n",
      "4/4 [==============================] - 0s 37ms/step - loss: 0.0982 - mean_absolute_error: 0.1548 - val_loss: 0.1089 - val_mean_absolute_error: 0.1628\n",
      "Epoch 68/300\n",
      "4/4 [==============================] - 0s 36ms/step - loss: 0.0982 - mean_absolute_error: 0.1549 - val_loss: 0.1091 - val_mean_absolute_error: 0.1626\n",
      "Epoch 69/300\n",
      "4/4 [==============================] - 0s 33ms/step - loss: 0.0981 - mean_absolute_error: 0.1547 - val_loss: 0.1090 - val_mean_absolute_error: 0.1626\n",
      "Epoch 70/300\n",
      "4/4 [==============================] - 0s 37ms/step - loss: 0.0982 - mean_absolute_error: 0.1548 - val_loss: 0.1095 - val_mean_absolute_error: 0.1624\n",
      "Epoch 71/300\n",
      "4/4 [==============================] - 0s 37ms/step - loss: 0.0980 - mean_absolute_error: 0.1544 - val_loss: 0.1088 - val_mean_absolute_error: 0.1626\n",
      "Epoch 72/300\n",
      "4/4 [==============================] - 0s 36ms/step - loss: 0.0980 - mean_absolute_error: 0.1545 - val_loss: 0.1097 - val_mean_absolute_error: 0.1626\n",
      "Epoch 73/300\n",
      "4/4 [==============================] - 0s 39ms/step - loss: 0.0981 - mean_absolute_error: 0.1545 - val_loss: 0.1091 - val_mean_absolute_error: 0.1621\n",
      "Epoch 74/300\n",
      "4/4 [==============================] - 0s 39ms/step - loss: 0.0980 - mean_absolute_error: 0.1540 - val_loss: 0.1095 - val_mean_absolute_error: 0.1622\n",
      "Epoch 75/300\n",
      "4/4 [==============================] - 0s 35ms/step - loss: 0.0981 - mean_absolute_error: 0.1542 - val_loss: 0.1095 - val_mean_absolute_error: 0.1620\n",
      "Epoch 76/300\n",
      "4/4 [==============================] - 0s 34ms/step - loss: 0.0979 - mean_absolute_error: 0.1542 - val_loss: 0.1092 - val_mean_absolute_error: 0.1619\n",
      "Epoch 77/300\n",
      "4/4 [==============================] - 0s 34ms/step - loss: 0.0979 - mean_absolute_error: 0.1537 - val_loss: 0.1086 - val_mean_absolute_error: 0.1632\n",
      "Epoch 78/300\n",
      "4/4 [==============================] - 0s 36ms/step - loss: 0.0982 - mean_absolute_error: 0.1543 - val_loss: 0.1086 - val_mean_absolute_error: 0.1619\n",
      "Epoch 79/300\n",
      "4/4 [==============================] - 0s 36ms/step - loss: 0.0978 - mean_absolute_error: 0.1539 - val_loss: 0.1098 - val_mean_absolute_error: 0.1621\n",
      "Epoch 80/300\n",
      "4/4 [==============================] - 0s 41ms/step - loss: 0.0978 - mean_absolute_error: 0.1537 - val_loss: 0.1086 - val_mean_absolute_error: 0.1616\n",
      "Epoch 81/300\n",
      "4/4 [==============================] - 0s 34ms/step - loss: 0.0977 - mean_absolute_error: 0.1534 - val_loss: 0.1087 - val_mean_absolute_error: 0.1614\n",
      "Epoch 82/300\n",
      "4/4 [==============================] - 0s 37ms/step - loss: 0.0976 - mean_absolute_error: 0.1533 - val_loss: 0.1086 - val_mean_absolute_error: 0.1614\n",
      "Epoch 83/300\n",
      "4/4 [==============================] - 0s 36ms/step - loss: 0.0977 - mean_absolute_error: 0.1531 - val_loss: 0.1085 - val_mean_absolute_error: 0.1616\n",
      "Epoch 84/300\n",
      "4/4 [==============================] - 0s 37ms/step - loss: 0.0976 - mean_absolute_error: 0.1532 - val_loss: 0.1091 - val_mean_absolute_error: 0.1613\n",
      "Epoch 85/300\n",
      "4/4 [==============================] - 0s 37ms/step - loss: 0.0976 - mean_absolute_error: 0.1531 - val_loss: 0.1086 - val_mean_absolute_error: 0.1612\n",
      "Epoch 86/300\n",
      "4/4 [==============================] - 0s 37ms/step - loss: 0.0977 - mean_absolute_error: 0.1532 - val_loss: 0.1085 - val_mean_absolute_error: 0.1612\n",
      "Epoch 87/300\n",
      "4/4 [==============================] - 0s 37ms/step - loss: 0.0976 - mean_absolute_error: 0.1530 - val_loss: 0.1083 - val_mean_absolute_error: 0.1619\n",
      "Epoch 88/300\n",
      "4/4 [==============================] - 0s 45ms/step - loss: 0.0977 - mean_absolute_error: 0.1533 - val_loss: 0.1083 - val_mean_absolute_error: 0.1615\n",
      "Epoch 89/300\n",
      "4/4 [==============================] - 0s 39ms/step - loss: 0.0975 - mean_absolute_error: 0.1530 - val_loss: 0.1088 - val_mean_absolute_error: 0.1609\n",
      "Epoch 90/300\n",
      "4/4 [==============================] - 0s 39ms/step - loss: 0.0976 - mean_absolute_error: 0.1532 - val_loss: 0.1097 - val_mean_absolute_error: 0.1614\n",
      "Epoch 91/300\n",
      "4/4 [==============================] - 0s 35ms/step - loss: 0.0978 - mean_absolute_error: 0.1535 - val_loss: 0.1090 - val_mean_absolute_error: 0.1610\n",
      "Epoch 92/300\n",
      "4/4 [==============================] - 0s 33ms/step - loss: 0.0975 - mean_absolute_error: 0.1529 - val_loss: 0.1085 - val_mean_absolute_error: 0.1609\n",
      "Epoch 93/300\n",
      "4/4 [==============================] - 0s 37ms/step - loss: 0.0975 - mean_absolute_error: 0.1529 - val_loss: 0.1082 - val_mean_absolute_error: 0.1622\n",
      "Epoch 94/300\n",
      "4/4 [==============================] - 0s 37ms/step - loss: 0.0976 - mean_absolute_error: 0.1532 - val_loss: 0.1082 - val_mean_absolute_error: 0.1617\n",
      "Epoch 95/300\n",
      "4/4 [==============================] - 0s 38ms/step - loss: 0.0976 - mean_absolute_error: 0.1533 - val_loss: 0.1084 - val_mean_absolute_error: 0.1607\n",
      "Epoch 96/300\n",
      "4/4 [==============================] - 0s 40ms/step - loss: 0.0974 - mean_absolute_error: 0.1530 - val_loss: 0.1092 - val_mean_absolute_error: 0.1610\n",
      "Epoch 97/300\n",
      "4/4 [==============================] - 0s 35ms/step - loss: 0.0976 - mean_absolute_error: 0.1530 - val_loss: 0.1091 - val_mean_absolute_error: 0.1608\n",
      "Epoch 98/300\n",
      "4/4 [==============================] - 0s 29ms/step - loss: 0.0976 - mean_absolute_error: 0.1529 - val_loss: 0.1083 - val_mean_absolute_error: 0.1605\n",
      "Epoch 99/300\n",
      "4/4 [==============================] - 0s 38ms/step - loss: 0.0974 - mean_absolute_error: 0.1524 - val_loss: 0.1081 - val_mean_absolute_error: 0.1609\n",
      "Epoch 100/300\n",
      "4/4 [==============================] - 0s 41ms/step - loss: 0.0973 - mean_absolute_error: 0.1525 - val_loss: 0.1081 - val_mean_absolute_error: 0.1616\n",
      "Epoch 101/300\n",
      "4/4 [==============================] - 0s 36ms/step - loss: 0.0974 - mean_absolute_error: 0.1529 - val_loss: 0.1087 - val_mean_absolute_error: 0.1604\n",
      "Epoch 102/300\n",
      "4/4 [==============================] - 0s 33ms/step - loss: 0.0973 - mean_absolute_error: 0.1525 - val_loss: 0.1083 - val_mean_absolute_error: 0.1604\n",
      "Epoch 103/300\n",
      "4/4 [==============================] - 0s 39ms/step - loss: 0.0972 - mean_absolute_error: 0.1524 - val_loss: 0.1083 - val_mean_absolute_error: 0.1604\n",
      "Epoch 104/300\n",
      "4/4 [==============================] - 0s 38ms/step - loss: 0.0971 - mean_absolute_error: 0.1521 - val_loss: 0.1080 - val_mean_absolute_error: 0.1612\n",
      "Epoch 105/300\n",
      "4/4 [==============================] - 0s 36ms/step - loss: 0.0973 - mean_absolute_error: 0.1526 - val_loss: 0.1081 - val_mean_absolute_error: 0.1605\n",
      "Epoch 106/300\n",
      "4/4 [==============================] - 0s 39ms/step - loss: 0.0973 - mean_absolute_error: 0.1525 - val_loss: 0.1083 - val_mean_absolute_error: 0.1603\n",
      "Epoch 107/300\n",
      "4/4 [==============================] - 0s 37ms/step - loss: 0.0971 - mean_absolute_error: 0.1524 - val_loss: 0.1082 - val_mean_absolute_error: 0.1603\n",
      "Epoch 108/300\n",
      "4/4 [==============================] - 0s 39ms/step - loss: 0.0971 - mean_absolute_error: 0.1522 - val_loss: 0.1084 - val_mean_absolute_error: 0.1602\n",
      "Epoch 109/300\n",
      "4/4 [==============================] - 0s 38ms/step - loss: 0.0971 - mean_absolute_error: 0.1521 - val_loss: 0.1084 - val_mean_absolute_error: 0.1602\n",
      "Epoch 110/300\n",
      "4/4 [==============================] - 0s 40ms/step - loss: 0.0972 - mean_absolute_error: 0.1526 - val_loss: 0.1083 - val_mean_absolute_error: 0.1604\n",
      "Epoch 111/300\n",
      "4/4 [==============================] - 0s 40ms/step - loss: 0.0971 - mean_absolute_error: 0.1523 - val_loss: 0.1091 - val_mean_absolute_error: 0.1604\n",
      "Epoch 112/300\n",
      "4/4 [==============================] - 0s 34ms/step - loss: 0.0971 - mean_absolute_error: 0.1525 - val_loss: 0.1080 - val_mean_absolute_error: 0.1602\n",
      "Epoch 113/300\n",
      "4/4 [==============================] - 0s 32ms/step - loss: 0.0970 - mean_absolute_error: 0.1523 - val_loss: 0.1089 - val_mean_absolute_error: 0.1604\n",
      "Epoch 114/300\n",
      "4/4 [==============================] - 0s 39ms/step - loss: 0.0973 - mean_absolute_error: 0.1524 - val_loss: 0.1091 - val_mean_absolute_error: 0.1607\n",
      "Epoch 115/300\n",
      "4/4 [==============================] - 0s 37ms/step - loss: 0.0975 - mean_absolute_error: 0.1531 - val_loss: 0.1092 - val_mean_absolute_error: 0.1611\n",
      "Epoch 116/300\n",
      "4/4 [==============================] - 0s 36ms/step - loss: 0.0974 - mean_absolute_error: 0.1528 - val_loss: 0.1079 - val_mean_absolute_error: 0.1606\n",
      "Epoch 117/300\n",
      "4/4 [==============================] - 0s 41ms/step - loss: 0.0970 - mean_absolute_error: 0.1522 - val_loss: 0.1079 - val_mean_absolute_error: 0.1618\n",
      "Epoch 118/300\n",
      "4/4 [==============================] - 0s 31ms/step - loss: 0.0974 - mean_absolute_error: 0.1530 - val_loss: 0.1077 - val_mean_absolute_error: 0.1604\n",
      "Epoch 119/300\n",
      "4/4 [==============================] - 0s 37ms/step - loss: 0.0971 - mean_absolute_error: 0.1523 - val_loss: 0.1079 - val_mean_absolute_error: 0.1602\n",
      "Epoch 120/300\n",
      "4/4 [==============================] - 0s 38ms/step - loss: 0.0969 - mean_absolute_error: 0.1524 - val_loss: 0.1079 - val_mean_absolute_error: 0.1603\n",
      "Epoch 121/300\n",
      "4/4 [==============================] - 0s 39ms/step - loss: 0.0968 - mean_absolute_error: 0.1521 - val_loss: 0.1080 - val_mean_absolute_error: 0.1601\n",
      "Epoch 122/300\n",
      "4/4 [==============================] - 0s 37ms/step - loss: 0.0969 - mean_absolute_error: 0.1520 - val_loss: 0.1077 - val_mean_absolute_error: 0.1604\n",
      "Epoch 123/300\n",
      "4/4 [==============================] - 0s 41ms/step - loss: 0.0969 - mean_absolute_error: 0.1521 - val_loss: 0.1077 - val_mean_absolute_error: 0.1604\n",
      "Epoch 124/300\n",
      "4/4 [==============================] - 0s 38ms/step - loss: 0.0970 - mean_absolute_error: 0.1521 - val_loss: 0.1077 - val_mean_absolute_error: 0.1601\n",
      "Epoch 125/300\n",
      "4/4 [==============================] - 0s 37ms/step - loss: 0.0974 - mean_absolute_error: 0.1526 - val_loss: 0.1080 - val_mean_absolute_error: 0.1598\n",
      "Epoch 126/300\n",
      "4/4 [==============================] - 0s 38ms/step - loss: 0.0973 - mean_absolute_error: 0.1528 - val_loss: 0.1101 - val_mean_absolute_error: 0.1607\n",
      "Epoch 127/300\n",
      "4/4 [==============================] - 0s 39ms/step - loss: 0.0971 - mean_absolute_error: 0.1523 - val_loss: 0.1076 - val_mean_absolute_error: 0.1601\n",
      "Epoch 128/300\n",
      "4/4 [==============================] - 0s 37ms/step - loss: 0.0967 - mean_absolute_error: 0.1518 - val_loss: 0.1081 - val_mean_absolute_error: 0.1596\n",
      "Epoch 129/300\n",
      "4/4 [==============================] - 0s 37ms/step - loss: 0.0967 - mean_absolute_error: 0.1517 - val_loss: 0.1076 - val_mean_absolute_error: 0.1597\n",
      "Epoch 130/300\n",
      "4/4 [==============================] - 0s 39ms/step - loss: 0.0967 - mean_absolute_error: 0.1517 - val_loss: 0.1074 - val_mean_absolute_error: 0.1599\n",
      "Epoch 131/300\n",
      "4/4 [==============================] - 0s 44ms/step - loss: 0.0967 - mean_absolute_error: 0.1521 - val_loss: 0.1090 - val_mean_absolute_error: 0.1600\n",
      "Epoch 132/300\n",
      "4/4 [==============================] - 0s 36ms/step - loss: 0.0970 - mean_absolute_error: 0.1523 - val_loss: 0.1089 - val_mean_absolute_error: 0.1599\n",
      "Epoch 133/300\n",
      "4/4 [==============================] - 0s 37ms/step - loss: 0.0972 - mean_absolute_error: 0.1524 - val_loss: 0.1077 - val_mean_absolute_error: 0.1596\n",
      "Epoch 134/300\n",
      "4/4 [==============================] - 0s 34ms/step - loss: 0.0971 - mean_absolute_error: 0.1521 - val_loss: 0.1077 - val_mean_absolute_error: 0.1617\n",
      "Epoch 135/300\n",
      "4/4 [==============================] - 0s 39ms/step - loss: 0.0970 - mean_absolute_error: 0.1520 - val_loss: 0.1076 - val_mean_absolute_error: 0.1596\n",
      "Epoch 136/300\n",
      "4/4 [==============================] - 0s 34ms/step - loss: 0.0967 - mean_absolute_error: 0.1520 - val_loss: 0.1082 - val_mean_absolute_error: 0.1597\n",
      "Epoch 137/300\n",
      "4/4 [==============================] - 0s 38ms/step - loss: 0.0968 - mean_absolute_error: 0.1516 - val_loss: 0.1082 - val_mean_absolute_error: 0.1596\n",
      "Epoch 138/300\n",
      "4/4 [==============================] - 0s 40ms/step - loss: 0.0966 - mean_absolute_error: 0.1518 - val_loss: 0.1073 - val_mean_absolute_error: 0.1602\n",
      "Epoch 139/300\n",
      "4/4 [==============================] - 0s 41ms/step - loss: 0.0967 - mean_absolute_error: 0.1519 - val_loss: 0.1076 - val_mean_absolute_error: 0.1606\n",
      "Epoch 140/300\n",
      "4/4 [==============================] - 0s 37ms/step - loss: 0.0970 - mean_absolute_error: 0.1517 - val_loss: 0.1073 - val_mean_absolute_error: 0.1605\n",
      "Epoch 141/300\n",
      "4/4 [==============================] - 0s 32ms/step - loss: 0.0966 - mean_absolute_error: 0.1523 - val_loss: 0.1078 - val_mean_absolute_error: 0.1597\n",
      "Epoch 142/300\n",
      "4/4 [==============================] - 0s 39ms/step - loss: 0.0966 - mean_absolute_error: 0.1519 - val_loss: 0.1082 - val_mean_absolute_error: 0.1595\n",
      "Epoch 143/300\n",
      "4/4 [==============================] - 0s 37ms/step - loss: 0.0965 - mean_absolute_error: 0.1515 - val_loss: 0.1072 - val_mean_absolute_error: 0.1604\n",
      "Epoch 144/300\n",
      "4/4 [==============================] - 0s 36ms/step - loss: 0.0964 - mean_absolute_error: 0.1518 - val_loss: 0.1075 - val_mean_absolute_error: 0.1596\n",
      "Epoch 145/300\n",
      "4/4 [==============================] - 0s 30ms/step - loss: 0.0964 - mean_absolute_error: 0.1514 - val_loss: 0.1073 - val_mean_absolute_error: 0.1596\n",
      "Epoch 146/300\n",
      "4/4 [==============================] - 0s 39ms/step - loss: 0.0964 - mean_absolute_error: 0.1514 - val_loss: 0.1071 - val_mean_absolute_error: 0.1599\n",
      "Epoch 147/300\n",
      "4/4 [==============================] - 0s 31ms/step - loss: 0.0965 - mean_absolute_error: 0.1519 - val_loss: 0.1073 - val_mean_absolute_error: 0.1594\n",
      "Epoch 148/300\n",
      "4/4 [==============================] - 0s 37ms/step - loss: 0.0965 - mean_absolute_error: 0.1517 - val_loss: 0.1085 - val_mean_absolute_error: 0.1596\n",
      "Epoch 149/300\n",
      "4/4 [==============================] - 0s 38ms/step - loss: 0.0967 - mean_absolute_error: 0.1520 - val_loss: 0.1090 - val_mean_absolute_error: 0.1599\n",
      "Epoch 150/300\n",
      "4/4 [==============================] - 0s 37ms/step - loss: 0.0967 - mean_absolute_error: 0.1518 - val_loss: 0.1073 - val_mean_absolute_error: 0.1593\n",
      "Epoch 151/300\n",
      "4/4 [==============================] - 0s 37ms/step - loss: 0.0965 - mean_absolute_error: 0.1514 - val_loss: 0.1070 - val_mean_absolute_error: 0.1602\n",
      "Epoch 152/300\n",
      "4/4 [==============================] - 0s 38ms/step - loss: 0.0965 - mean_absolute_error: 0.1516 - val_loss: 0.1070 - val_mean_absolute_error: 0.1600\n",
      "Epoch 153/300\n",
      "4/4 [==============================] - 0s 33ms/step - loss: 0.0963 - mean_absolute_error: 0.1515 - val_loss: 0.1074 - val_mean_absolute_error: 0.1591\n",
      "Epoch 154/300\n",
      "4/4 [==============================] - 0s 37ms/step - loss: 0.0964 - mean_absolute_error: 0.1516 - val_loss: 0.1072 - val_mean_absolute_error: 0.1592\n",
      "Epoch 155/300\n",
      "4/4 [==============================] - 0s 38ms/step - loss: 0.0961 - mean_absolute_error: 0.1513 - val_loss: 0.1076 - val_mean_absolute_error: 0.1591\n",
      "Epoch 156/300\n",
      "4/4 [==============================] - 0s 35ms/step - loss: 0.0963 - mean_absolute_error: 0.1514 - val_loss: 0.1073 - val_mean_absolute_error: 0.1591\n",
      "Epoch 157/300\n",
      "4/4 [==============================] - 0s 38ms/step - loss: 0.0964 - mean_absolute_error: 0.1513 - val_loss: 0.1074 - val_mean_absolute_error: 0.1591\n",
      "Epoch 158/300\n",
      "4/4 [==============================] - 0s 34ms/step - loss: 0.0962 - mean_absolute_error: 0.1512 - val_loss: 0.1068 - val_mean_absolute_error: 0.1599\n",
      "Epoch 159/300\n",
      "4/4 [==============================] - 0s 34ms/step - loss: 0.0962 - mean_absolute_error: 0.1514 - val_loss: 0.1070 - val_mean_absolute_error: 0.1593\n",
      "Epoch 160/300\n",
      "4/4 [==============================] - 0s 37ms/step - loss: 0.0960 - mean_absolute_error: 0.1511 - val_loss: 0.1071 - val_mean_absolute_error: 0.1592\n",
      "Epoch 161/300\n",
      "4/4 [==============================] - 0s 38ms/step - loss: 0.0961 - mean_absolute_error: 0.1511 - val_loss: 0.1073 - val_mean_absolute_error: 0.1591\n",
      "Epoch 162/300\n",
      "4/4 [==============================] - 0s 30ms/step - loss: 0.0961 - mean_absolute_error: 0.1513 - val_loss: 0.1072 - val_mean_absolute_error: 0.1591\n",
      "Epoch 163/300\n",
      "4/4 [==============================] - 0s 37ms/step - loss: 0.0960 - mean_absolute_error: 0.1509 - val_loss: 0.1068 - val_mean_absolute_error: 0.1593\n",
      "Epoch 164/300\n",
      "4/4 [==============================] - 0s 40ms/step - loss: 0.0961 - mean_absolute_error: 0.1513 - val_loss: 0.1069 - val_mean_absolute_error: 0.1599\n",
      "Epoch 165/300\n",
      "4/4 [==============================] - 0s 43ms/step - loss: 0.0961 - mean_absolute_error: 0.1513 - val_loss: 0.1067 - val_mean_absolute_error: 0.1594\n",
      "Epoch 166/300\n",
      "4/4 [==============================] - 0s 38ms/step - loss: 0.0964 - mean_absolute_error: 0.1519 - val_loss: 0.1077 - val_mean_absolute_error: 0.1592\n",
      "Epoch 167/300\n",
      "4/4 [==============================] - 0s 33ms/step - loss: 0.0961 - mean_absolute_error: 0.1511 - val_loss: 0.1072 - val_mean_absolute_error: 0.1594\n",
      "Epoch 168/300\n",
      "4/4 [==============================] - 0s 39ms/step - loss: 0.0960 - mean_absolute_error: 0.1515 - val_loss: 0.1069 - val_mean_absolute_error: 0.1603\n",
      "Epoch 169/300\n",
      "4/4 [==============================] - 0s 34ms/step - loss: 0.0960 - mean_absolute_error: 0.1514 - val_loss: 0.1069 - val_mean_absolute_error: 0.1596\n",
      "Epoch 170/300\n",
      "4/4 [==============================] - 0s 39ms/step - loss: 0.0963 - mean_absolute_error: 0.1517 - val_loss: 0.1073 - val_mean_absolute_error: 0.1591\n",
      "Epoch 171/300\n",
      "4/4 [==============================] - 0s 36ms/step - loss: 0.0959 - mean_absolute_error: 0.1512 - val_loss: 0.1075 - val_mean_absolute_error: 0.1592\n",
      "Epoch 172/300\n",
      "4/4 [==============================] - 0s 34ms/step - loss: 0.0959 - mean_absolute_error: 0.1513 - val_loss: 0.1071 - val_mean_absolute_error: 0.1596\n",
      "Epoch 173/300\n",
      "4/4 [==============================] - 0s 41ms/step - loss: 0.0959 - mean_absolute_error: 0.1512 - val_loss: 0.1073 - val_mean_absolute_error: 0.1593\n",
      "Epoch 174/300\n",
      "4/4 [==============================] - 0s 37ms/step - loss: 0.0959 - mean_absolute_error: 0.1513 - val_loss: 0.1070 - val_mean_absolute_error: 0.1593\n",
      "Epoch 175/300\n",
      "4/4 [==============================] - 0s 40ms/step - loss: 0.0959 - mean_absolute_error: 0.1510 - val_loss: 0.1068 - val_mean_absolute_error: 0.1593\n",
      "Epoch 176/300\n",
      "4/4 [==============================] - 0s 33ms/step - loss: 0.0960 - mean_absolute_error: 0.1508 - val_loss: 0.1072 - val_mean_absolute_error: 0.1613\n",
      "Epoch 177/300\n",
      "4/4 [==============================] - 0s 36ms/step - loss: 0.0964 - mean_absolute_error: 0.1519 - val_loss: 0.1069 - val_mean_absolute_error: 0.1597\n",
      "Epoch 178/300\n",
      "4/4 [==============================] - 0s 39ms/step - loss: 0.0963 - mean_absolute_error: 0.1513 - val_loss: 0.1071 - val_mean_absolute_error: 0.1591\n",
      "Epoch 179/300\n",
      "4/4 [==============================] - 0s 37ms/step - loss: 0.0960 - mean_absolute_error: 0.1515 - val_loss: 0.1081 - val_mean_absolute_error: 0.1595\n",
      "Epoch 180/300\n",
      "3/4 [=====================>........] - ETA: 0s - loss: 0.0958 - mean_absolute_error: 0.1511Restoring model weights from the end of the best epoch: 165.\n",
      "4/4 [==============================] - 0s 41ms/step - loss: 0.0960 - mean_absolute_error: 0.1513 - val_loss: 0.1071 - val_mean_absolute_error: 0.1589\n",
      "Epoch 180: early stopping\n"
     ]
    }
   ],
   "source": [
    "# Train the model\n",
    "\n",
    "history = model.fit(X_train, y_train,\n",
    "          epochs = 300, callbacks = [es],\n",
    "          validation_data = (X_valid, y_valid), \n",
    "                       batch_size = 1000, validation_batch_size = 1000)"
   ]
  },
  {
   "cell_type": "code",
   "execution_count": 20,
   "id": "df66636f-0db1-4253-8618-1701363cc9a0",
   "metadata": {},
   "outputs": [
    {
     "name": "stdout",
     "output_type": "stream",
     "text": [
      "29/29 [==============================] - 0s 7ms/step\n"
     ]
    }
   ],
   "source": [
    "# check if the model does prediction for validation data\n",
    "check_valid_preds = model.predict(X_valid)"
   ]
  },
  {
   "cell_type": "code",
   "execution_count": 21,
   "id": "cf0c6af6-a57b-4f10-b8e3-910b41f83a49",
   "metadata": {},
   "outputs": [
    {
     "data": {
      "text/plain": [
       "(910, 7, 32)"
      ]
     },
     "execution_count": 21,
     "metadata": {},
     "output_type": "execute_result"
    }
   ],
   "source": [
    "check_valid_preds.shape"
   ]
  },
  {
   "cell_type": "code",
   "execution_count": 26,
   "id": "77c38c9d-831d-477c-8c75-d3ecd5540815",
   "metadata": {},
   "outputs": [],
   "source": [
    "# save the model\n",
    "model.save(\"models/seq_2_seq_generic_model.keras\")"
   ]
  },
  {
   "cell_type": "code",
   "execution_count": 27,
   "id": "f61e0d06-2ba1-46b6-9d6a-3bd34c6c0b1a",
   "metadata": {},
   "outputs": [
    {
     "data": {
      "text/plain": [
       "0.3711441"
      ]
     },
     "execution_count": 27,
     "metadata": {},
     "output_type": "execute_result"
    }
   ],
   "source": [
    "# get the mean of the validation predictions for future sanity checks\n",
    "check_valid_preds.mean()"
   ]
  }
 ],
 "metadata": {
  "kernelspec": {
   "display_name": "Python (nrdstor_tfp_for_TN)",
   "language": "python",
   "name": "nrdstor_tfp_for_tn"
  },
  "language_info": {
   "codemirror_mode": {
    "name": "ipython",
    "version": 3
   },
   "file_extension": ".py",
   "mimetype": "text/x-python",
   "name": "python",
   "nbconvert_exporter": "python",
   "pygments_lexer": "ipython3",
   "version": "3.10.14"
  }
 },
 "nbformat": 4,
 "nbformat_minor": 5
}
