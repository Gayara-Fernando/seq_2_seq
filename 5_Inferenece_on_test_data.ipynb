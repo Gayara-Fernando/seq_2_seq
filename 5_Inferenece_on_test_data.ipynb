{
 "cells": [
  {
   "cell_type": "code",
   "execution_count": 1,
   "id": "6ea79db3-57cc-4d0c-99fe-eb563b1f4710",
   "metadata": {},
   "outputs": [],
   "source": [
    "# Let's make inference on test data here. Should we do all test blocks at once? I think it would make sense to do  on all blocks together since this is a deeplearning model. Maybe we can do both block-wise and all test dataset wise"
   ]
  },
  {
   "cell_type": "code",
   "execution_count": 2,
   "id": "de602e9e-0b82-4bc2-bd87-dc09172420d6",
   "metadata": {},
   "outputs": [
    {
     "name": "stderr",
     "output_type": "stream",
     "text": [
      "2025-06-10 12:20:50.400460: I tensorflow/core/util/port.cc:113] oneDNN custom operations are on. You may see slightly different numerical results due to floating-point round-off errors from different computation orders. To turn them off, set the environment variable `TF_ENABLE_ONEDNN_OPTS=0`.\n",
      "2025-06-10 12:20:50.437521: E external/local_xla/xla/stream_executor/cuda/cuda_dnn.cc:9261] Unable to register cuDNN factory: Attempting to register factory for plugin cuDNN when one has already been registered\n",
      "2025-06-10 12:20:50.437546: E external/local_xla/xla/stream_executor/cuda/cuda_fft.cc:607] Unable to register cuFFT factory: Attempting to register factory for plugin cuFFT when one has already been registered\n",
      "2025-06-10 12:20:50.438464: E external/local_xla/xla/stream_executor/cuda/cuda_blas.cc:1515] Unable to register cuBLAS factory: Attempting to register factory for plugin cuBLAS when one has already been registered\n",
      "2025-06-10 12:20:50.444778: I tensorflow/core/platform/cpu_feature_guard.cc:182] This TensorFlow binary is optimized to use available CPU instructions in performance-critical operations.\n",
      "To enable the following instructions: SSE4.1 SSE4.2 AVX AVX2 AVX512F AVX512_VNNI FMA, in other operations, rebuild TensorFlow with the appropriate compiler flags.\n"
     ]
    }
   ],
   "source": [
    "import numpy as np\n",
    "import os\n",
    "import pandas as pd\n",
    "import tensorflow as tf\n",
    "# from sklearn.metrics import mean_absolute_error, mean_squared_error, r2_score - can't use this on 3D matrices, only work for 2D\n",
    "from scipy.stats import pearsonr"
   ]
  },
  {
   "cell_type": "code",
   "execution_count": 3,
   "id": "7c57258e-dc18-41ea-9e23-5e9ea484a52f",
   "metadata": {},
   "outputs": [
    {
     "name": "stdout",
     "output_type": "stream",
     "text": [
      "WARNING:tensorflow:Layer lstm will not use cuDNN kernels since it doesn't meet the criteria. It will use a generic GPU kernel as fallback when running on GPU.\n",
      "WARNING:tensorflow:Layer lstm_1 will not use cuDNN kernels since it doesn't meet the criteria. It will use a generic GPU kernel as fallback when running on GPU.\n"
     ]
    },
    {
     "name": "stderr",
     "output_type": "stream",
     "text": [
      "2025-06-10 12:20:52.260394: I tensorflow/core/common_runtime/gpu/gpu_device.cc:1929] Created device /job:localhost/replica:0/task:0/device:GPU:0 with 31134 MB memory:  -> device: 0, name: Tesla V100S-PCIE-32GB, pci bus id: 0000:06:00.0, compute capability: 7.0\n"
     ]
    }
   ],
   "source": [
    "# import the trained seq_2_seq model here\n",
    "seq_2_seq_generic_model = tf.keras.models.load_model(\"models/seq_2_seq_generic_model.keras\")"
   ]
  },
  {
   "cell_type": "code",
   "execution_count": 4,
   "id": "c9490008-ea09-4721-ac80-ba7e3a7a8d62",
   "metadata": {},
   "outputs": [],
   "source": [
    "# validation data location\n",
    "validation_data_loc = \"seq_2_seq_valid_data\""
   ]
  },
  {
   "cell_type": "code",
   "execution_count": 5,
   "id": "5ee00c3a-7588-4edd-bd4e-a339a7dd9cb6",
   "metadata": {},
   "outputs": [
    {
     "data": {
      "text/plain": [
       "['block_0204_extracted_input_features.npy',\n",
       " 'block_0204_extracted_target_features.npy']"
      ]
     },
     "execution_count": 5,
     "metadata": {},
     "output_type": "execute_result"
    }
   ],
   "source": [
    "os.listdir(validation_data_loc)"
   ]
  },
  {
   "cell_type": "code",
   "execution_count": 6,
   "id": "250569c1-727b-402c-918d-9f2746a3243f",
   "metadata": {},
   "outputs": [],
   "source": [
    "# load validation data\n",
    "validation_features = np.load(os.path.join(validation_data_loc, 'block_0204_extracted_input_features.npy'))"
   ]
  },
  {
   "cell_type": "code",
   "execution_count": 7,
   "id": "1bf80cf7-7469-40a0-a215-904aa6f4aea6",
   "metadata": {},
   "outputs": [
    {
     "data": {
      "text/plain": [
       "(910, 13, 32)"
      ]
     },
     "execution_count": 7,
     "metadata": {},
     "output_type": "execute_result"
    }
   ],
   "source": [
    "validation_features.shape"
   ]
  },
  {
   "cell_type": "code",
   "execution_count": 8,
   "id": "da95b518-2ab3-4a9b-b060-a1c5e308887c",
   "metadata": {},
   "outputs": [
    {
     "name": "stdout",
     "output_type": "stream",
     "text": [
      "29/29 [==============================] - 1s 8ms/step\n"
     ]
    }
   ],
   "source": [
    "# get the predictions for validation data\n",
    "preds_for_valid_data = seq_2_seq_generic_model.predict(validation_features)"
   ]
  },
  {
   "cell_type": "code",
   "execution_count": 9,
   "id": "7c1f5fcb-7307-4178-a46f-0d8c570b48fd",
   "metadata": {},
   "outputs": [
    {
     "data": {
      "text/plain": [
       "(910, 7, 32)"
      ]
     },
     "execution_count": 9,
     "metadata": {},
     "output_type": "execute_result"
    }
   ],
   "source": [
    "preds_for_valid_data.shape"
   ]
  },
  {
   "cell_type": "code",
   "execution_count": 10,
   "id": "b0494079-0b5f-46be-8756-e0c60a332a12",
   "metadata": {},
   "outputs": [
    {
     "data": {
      "text/plain": [
       "0.3711441"
      ]
     },
     "execution_count": 10,
     "metadata": {},
     "output_type": "execute_result"
    }
   ],
   "source": [
    "# sanity check - check with the mean on script 2\n",
    "preds_for_valid_data.mean()"
   ]
  },
  {
   "cell_type": "code",
   "execution_count": 11,
   "id": "26a7d133-c9d8-404f-acfb-61b78b8139cd",
   "metadata": {},
   "outputs": [],
   "source": [
    "# Let's compute the performance metrics for the validaiton data"
   ]
  },
  {
   "cell_type": "code",
   "execution_count": 12,
   "id": "f889c36d-69ef-4f6e-8545-4dfdd4a152c8",
   "metadata": {},
   "outputs": [],
   "source": [
    "# load the true validation data\n",
    "valid_true = np.load(os.path.join(validation_data_loc, 'block_0204_extracted_target_features.npy'))"
   ]
  },
  {
   "cell_type": "code",
   "execution_count": 13,
   "id": "e3d40f7b-c64a-4d4b-9606-aca718ba7d9b",
   "metadata": {},
   "outputs": [
    {
     "data": {
      "text/plain": [
       "(910, 7, 32)"
      ]
     },
     "execution_count": 13,
     "metadata": {},
     "output_type": "execute_result"
    }
   ],
   "source": [
    "valid_true.shape"
   ]
  },
  {
   "cell_type": "code",
   "execution_count": 14,
   "id": "47c3bbf8-2f1b-4bc2-8677-50e0e5a36ac8",
   "metadata": {},
   "outputs": [],
   "source": [
    "# get the metrics with tensorflow\n",
    "\n",
    "# convert the true and predicted matrices into tensors\n",
    "y_true_tensor_valid = tf.constant(valid_true, dtype = tf.float32)\n",
    "y_pred_tensor_valid = tf.constant(preds_for_valid_data, dtype = tf.float32)"
   ]
  },
  {
   "cell_type": "code",
   "execution_count": 15,
   "id": "8f2d526c-3412-496d-9cef-fb0dddb92c5b",
   "metadata": {},
   "outputs": [
    {
     "data": {
      "text/plain": [
       "(TensorShape([910, 7, 32]), TensorShape([910, 7, 32]))"
      ]
     },
     "execution_count": 15,
     "metadata": {},
     "output_type": "execute_result"
    }
   ],
   "source": [
    "y_true_tensor_valid.shape, y_pred_tensor_valid.shape"
   ]
  },
  {
   "cell_type": "code",
   "execution_count": 16,
   "id": "1f2cca31-aa8c-4801-af3c-9f160b51a035",
   "metadata": {},
   "outputs": [],
   "source": [
    "# define the MAE metric\n",
    "mae_metric_valid = tf.keras.metrics.MeanAbsoluteError()"
   ]
  },
  {
   "cell_type": "code",
   "execution_count": 17,
   "id": "3d1b54d6-a105-41ad-8fd2-02c8f8169178",
   "metadata": {},
   "outputs": [
    {
     "data": {
      "text/plain": [
       "<tf.Variable 'UnreadVariable' shape=() dtype=float32, numpy=6370.0>"
      ]
     },
     "execution_count": 17,
     "metadata": {},
     "output_type": "execute_result"
    }
   ],
   "source": [
    "# update the state of the metric\n",
    "mae_metric_valid.update_state(y_true_tensor_valid, y_pred_tensor_valid)"
   ]
  },
  {
   "cell_type": "code",
   "execution_count": 18,
   "id": "17ab5186-4cd2-433a-b7de-8315674529fa",
   "metadata": {},
   "outputs": [],
   "source": [
    "# Get the result\n",
    "mae_valid = mae_metric_valid.result().numpy()"
   ]
  },
  {
   "cell_type": "code",
   "execution_count": 19,
   "id": "0d0da4ee-a412-4e01-97fc-82b942cb21d0",
   "metadata": {},
   "outputs": [
    {
     "data": {
      "text/plain": [
       "0.15943222"
      ]
     },
     "execution_count": 19,
     "metadata": {},
     "output_type": "execute_result"
    }
   ],
   "source": [
    "mae_valid # This value match the one during training in script 2"
   ]
  },
  {
   "cell_type": "code",
   "execution_count": 20,
   "id": "e8ef0e6a-38a7-4460-8c4f-a016f5cb003a",
   "metadata": {},
   "outputs": [
    {
     "data": {
      "text/plain": [
       "0.15943222"
      ]
     },
     "execution_count": 20,
     "metadata": {},
     "output_type": "execute_result"
    }
   ],
   "source": [
    "# We can also use numpy to get this value directly\n",
    "np.mean(np.abs(valid_true - preds_for_valid_data))"
   ]
  },
  {
   "cell_type": "code",
   "execution_count": 21,
   "id": "6636b911-7e6f-4fda-9de4-287479c48472",
   "metadata": {},
   "outputs": [],
   "source": [
    "# Also get the rmse?\n",
    "\n",
    "# define the MSE metric\n",
    "mse_metric_valid = tf.keras.metrics.MeanSquaredError()"
   ]
  },
  {
   "cell_type": "code",
   "execution_count": 22,
   "id": "16c9d3fb-29da-4e7d-b9a4-a0534bcb3a60",
   "metadata": {},
   "outputs": [
    {
     "data": {
      "text/plain": [
       "<tf.Variable 'UnreadVariable' shape=() dtype=float32, numpy=6370.0>"
      ]
     },
     "execution_count": 22,
     "metadata": {},
     "output_type": "execute_result"
    }
   ],
   "source": [
    "# update the state of the metric\n",
    "mse_metric_valid.update_state(y_true_tensor_valid, y_pred_tensor_valid)"
   ]
  },
  {
   "cell_type": "code",
   "execution_count": 23,
   "id": "148b63d2-33c6-42ac-9c29-77964822e948",
   "metadata": {},
   "outputs": [
    {
     "data": {
      "text/plain": [
       "0.1067442"
      ]
     },
     "execution_count": 23,
     "metadata": {},
     "output_type": "execute_result"
    }
   ],
   "source": [
    "# get the result\n",
    "mse_valid = mse_metric_valid.result().numpy()\n",
    "mse_valid"
   ]
  },
  {
   "cell_type": "code",
   "execution_count": 24,
   "id": "4971d68d-4164-41d2-a5ed-388751065795",
   "metadata": {},
   "outputs": [
    {
     "data": {
      "text/plain": [
       "0.32671732"
      ]
     },
     "execution_count": 24,
     "metadata": {},
     "output_type": "execute_result"
    }
   ],
   "source": [
    "# therefore rmse\n",
    "rmse_valid = np.sqrt(mse_valid)\n",
    "rmse_valid"
   ]
  },
  {
   "cell_type": "code",
   "execution_count": 25,
   "id": "fd556f9e-e141-4ce8-a8b5-b2d0b42d1c48",
   "metadata": {},
   "outputs": [
    {
     "data": {
      "text/plain": [
       "0.32671732"
      ]
     },
     "execution_count": 25,
     "metadata": {},
     "output_type": "execute_result"
    }
   ],
   "source": [
    "# Do this the numpy way?\n",
    "np.sqrt(np.mean((valid_true - preds_for_valid_data)**2))"
   ]
  }
 ],
 "metadata": {
  "kernelspec": {
   "display_name": "Python (nrdstor_tfp_for_TN)",
   "language": "python",
   "name": "nrdstor_tfp_for_tn"
  },
  "language_info": {
   "codemirror_mode": {
    "name": "ipython",
    "version": 3
   },
   "file_extension": ".py",
   "mimetype": "text/x-python",
   "name": "python",
   "nbconvert_exporter": "python",
   "pygments_lexer": "ipython3",
   "version": "3.10.14"
  }
 },
 "nbformat": 4,
 "nbformat_minor": 5
}
