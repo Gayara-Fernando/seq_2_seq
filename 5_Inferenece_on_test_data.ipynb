{
 "cells": [
  {
   "cell_type": "code",
   "execution_count": 1,
   "id": "6ea79db3-57cc-4d0c-99fe-eb563b1f4710",
   "metadata": {},
   "outputs": [],
   "source": [
    "# Let's make inference on test data here. Should we do all test blocks at once? I think it would make sense to do  on all blocks together since this is a deeplearning model. Maybe we can do both block-wise and all test dataset wise"
   ]
  },
  {
   "cell_type": "code",
   "execution_count": 2,
   "id": "de602e9e-0b82-4bc2-bd87-dc09172420d6",
   "metadata": {},
   "outputs": [
    {
     "name": "stderr",
     "output_type": "stream",
     "text": [
      "2025-06-10 11:48:50.922709: I tensorflow/core/util/port.cc:113] oneDNN custom operations are on. You may see slightly different numerical results due to floating-point round-off errors from different computation orders. To turn them off, set the environment variable `TF_ENABLE_ONEDNN_OPTS=0`.\n",
      "2025-06-10 11:48:50.958795: E external/local_xla/xla/stream_executor/cuda/cuda_dnn.cc:9261] Unable to register cuDNN factory: Attempting to register factory for plugin cuDNN when one has already been registered\n",
      "2025-06-10 11:48:50.958818: E external/local_xla/xla/stream_executor/cuda/cuda_fft.cc:607] Unable to register cuFFT factory: Attempting to register factory for plugin cuFFT when one has already been registered\n",
      "2025-06-10 11:48:50.959610: E external/local_xla/xla/stream_executor/cuda/cuda_blas.cc:1515] Unable to register cuBLAS factory: Attempting to register factory for plugin cuBLAS when one has already been registered\n",
      "2025-06-10 11:48:50.965682: I tensorflow/core/platform/cpu_feature_guard.cc:182] This TensorFlow binary is optimized to use available CPU instructions in performance-critical operations.\n",
      "To enable the following instructions: SSE4.1 SSE4.2 AVX AVX2 AVX512F AVX512_VNNI FMA, in other operations, rebuild TensorFlow with the appropriate compiler flags.\n"
     ]
    }
   ],
   "source": [
    "import numpy as np\n",
    "import os\n",
    "import pandas as pd\n",
    "import tensorflow as tf\n",
    "from sklearn.metrics import mean_absolute_error, mean_squared_error, r2_score\n",
    "from scipy.stats import pearsonr"
   ]
  },
  {
   "cell_type": "code",
   "execution_count": 3,
   "id": "7c57258e-dc18-41ea-9e23-5e9ea484a52f",
   "metadata": {},
   "outputs": [
    {
     "name": "stdout",
     "output_type": "stream",
     "text": [
      "WARNING:tensorflow:Layer lstm will not use cuDNN kernels since it doesn't meet the criteria. It will use a generic GPU kernel as fallback when running on GPU.\n",
      "WARNING:tensorflow:Layer lstm_1 will not use cuDNN kernels since it doesn't meet the criteria. It will use a generic GPU kernel as fallback when running on GPU.\n"
     ]
    },
    {
     "name": "stderr",
     "output_type": "stream",
     "text": [
      "2025-06-10 11:48:52.771218: I tensorflow/core/common_runtime/gpu/gpu_device.cc:1929] Created device /job:localhost/replica:0/task:0/device:GPU:0 with 31134 MB memory:  -> device: 0, name: Tesla V100S-PCIE-32GB, pci bus id: 0000:06:00.0, compute capability: 7.0\n"
     ]
    }
   ],
   "source": [
    "# import the trained seq_2_seq model here\n",
    "seq_2_seq_generic_model = tf.keras.models.load_model(\"models/seq_2_seq_generic_model.keras\")"
   ]
  },
  {
   "cell_type": "code",
   "execution_count": 4,
   "id": "c9490008-ea09-4721-ac80-ba7e3a7a8d62",
   "metadata": {},
   "outputs": [],
   "source": [
    "# validation data location\n",
    "validation_data_loc = \"seq_2_seq_valid_data\""
   ]
  },
  {
   "cell_type": "code",
   "execution_count": 5,
   "id": "5ee00c3a-7588-4edd-bd4e-a339a7dd9cb6",
   "metadata": {},
   "outputs": [
    {
     "data": {
      "text/plain": [
       "['block_0204_extracted_input_features.npy',\n",
       " 'block_0204_extracted_target_features.npy']"
      ]
     },
     "execution_count": 5,
     "metadata": {},
     "output_type": "execute_result"
    }
   ],
   "source": [
    "os.listdir(validation_data_loc)"
   ]
  },
  {
   "cell_type": "code",
   "execution_count": 6,
   "id": "250569c1-727b-402c-918d-9f2746a3243f",
   "metadata": {},
   "outputs": [],
   "source": [
    "# load validation data\n",
    "validation_features = np.load(os.path.join(validation_data_loc, 'block_0204_extracted_input_features.npy'))"
   ]
  },
  {
   "cell_type": "code",
   "execution_count": 7,
   "id": "1bf80cf7-7469-40a0-a215-904aa6f4aea6",
   "metadata": {},
   "outputs": [
    {
     "data": {
      "text/plain": [
       "(910, 13, 32)"
      ]
     },
     "execution_count": 7,
     "metadata": {},
     "output_type": "execute_result"
    }
   ],
   "source": [
    "validation_features.shape"
   ]
  },
  {
   "cell_type": "code",
   "execution_count": 8,
   "id": "da95b518-2ab3-4a9b-b060-a1c5e308887c",
   "metadata": {},
   "outputs": [
    {
     "name": "stdout",
     "output_type": "stream",
     "text": [
      "29/29 [==============================] - 1s 8ms/step\n"
     ]
    }
   ],
   "source": [
    "# get the predictions for validation data\n",
    "preds_for_valid_data = seq_2_seq_generic_model.predict(validation_features)"
   ]
  },
  {
   "cell_type": "code",
   "execution_count": 9,
   "id": "7c1f5fcb-7307-4178-a46f-0d8c570b48fd",
   "metadata": {},
   "outputs": [
    {
     "data": {
      "text/plain": [
       "(910, 7, 32)"
      ]
     },
     "execution_count": 9,
     "metadata": {},
     "output_type": "execute_result"
    }
   ],
   "source": [
    "preds_for_valid_data.shape"
   ]
  },
  {
   "cell_type": "code",
   "execution_count": 10,
   "id": "b0494079-0b5f-46be-8756-e0c60a332a12",
   "metadata": {},
   "outputs": [
    {
     "data": {
      "text/plain": [
       "0.3711441"
      ]
     },
     "execution_count": 10,
     "metadata": {},
     "output_type": "execute_result"
    }
   ],
   "source": [
    "# sanity check - check with the mean on script 2\n",
    "preds_for_valid_data.mean()"
   ]
  },
  {
   "cell_type": "code",
   "execution_count": 11,
   "id": "26a7d133-c9d8-404f-acfb-61b78b8139cd",
   "metadata": {},
   "outputs": [],
   "source": [
    "# Let's compute the performance metrics"
   ]
  },
  {
   "cell_type": "code",
   "execution_count": null,
   "id": "47c3bbf8-2f1b-4bc2-8677-50e0e5a36ac8",
   "metadata": {},
   "outputs": [],
   "source": []
  },
  {
   "cell_type": "code",
   "execution_count": null,
   "id": "1f2cca31-aa8c-4801-af3c-9f160b51a035",
   "metadata": {},
   "outputs": [],
   "source": []
  }
 ],
 "metadata": {
  "kernelspec": {
   "display_name": "Python (nrdstor_tfp_for_TN)",
   "language": "python",
   "name": "nrdstor_tfp_for_tn"
  },
  "language_info": {
   "codemirror_mode": {
    "name": "ipython",
    "version": 3
   },
   "file_extension": ".py",
   "mimetype": "text/x-python",
   "name": "python",
   "nbconvert_exporter": "python",
   "pygments_lexer": "ipython3",
   "version": "3.10.14"
  }
 },
 "nbformat": 4,
 "nbformat_minor": 5
}
