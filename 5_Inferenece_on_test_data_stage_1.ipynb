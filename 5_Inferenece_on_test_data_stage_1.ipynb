{
 "cells": [
  {
   "cell_type": "code",
   "execution_count": 1,
   "id": "6ea79db3-57cc-4d0c-99fe-eb563b1f4710",
   "metadata": {},
   "outputs": [],
   "source": [
    "# Let's make inference on test data here. Should we do all test blocks at once? I think it would make sense to do  on all blocks together since this is a deeplearning model. Maybe we can do both block-wise and all test dataset wise. The notebook presents both these methods, first block-wise, and then altogether."
   ]
  },
  {
   "cell_type": "code",
   "execution_count": 2,
   "id": "de602e9e-0b82-4bc2-bd87-dc09172420d6",
   "metadata": {},
   "outputs": [
    {
     "name": "stderr",
     "output_type": "stream",
     "text": [
      "2025-06-10 20:28:24.862958: I tensorflow/core/util/port.cc:113] oneDNN custom operations are on. You may see slightly different numerical results due to floating-point round-off errors from different computation orders. To turn them off, set the environment variable `TF_ENABLE_ONEDNN_OPTS=0`.\n",
      "2025-06-10 20:28:24.898752: E external/local_xla/xla/stream_executor/cuda/cuda_dnn.cc:9261] Unable to register cuDNN factory: Attempting to register factory for plugin cuDNN when one has already been registered\n",
      "2025-06-10 20:28:24.898777: E external/local_xla/xla/stream_executor/cuda/cuda_fft.cc:607] Unable to register cuFFT factory: Attempting to register factory for plugin cuFFT when one has already been registered\n",
      "2025-06-10 20:28:24.899583: E external/local_xla/xla/stream_executor/cuda/cuda_blas.cc:1515] Unable to register cuBLAS factory: Attempting to register factory for plugin cuBLAS when one has already been registered\n",
      "2025-06-10 20:28:24.905403: I tensorflow/core/platform/cpu_feature_guard.cc:182] This TensorFlow binary is optimized to use available CPU instructions in performance-critical operations.\n",
      "To enable the following instructions: SSE4.1 SSE4.2 AVX AVX2 AVX512F AVX512_VNNI FMA, in other operations, rebuild TensorFlow with the appropriate compiler flags.\n"
     ]
    }
   ],
   "source": [
    "import numpy as np\n",
    "import os\n",
    "import pandas as pd\n",
    "import tensorflow as tf\n",
    "from sklearn.metrics import mean_absolute_error, mean_squared_error, r2_score # can't use this on 3D matrices, only work for 2D\n",
    "from scipy.stats import pearsonr # this is for 1D vectiors"
   ]
  },
  {
   "cell_type": "code",
   "execution_count": 3,
   "id": "7c57258e-dc18-41ea-9e23-5e9ea484a52f",
   "metadata": {},
   "outputs": [
    {
     "name": "stdout",
     "output_type": "stream",
     "text": [
      "WARNING:tensorflow:Layer lstm will not use cuDNN kernels since it doesn't meet the criteria. It will use a generic GPU kernel as fallback when running on GPU.\n",
      "WARNING:tensorflow:Layer lstm_1 will not use cuDNN kernels since it doesn't meet the criteria. It will use a generic GPU kernel as fallback when running on GPU.\n"
     ]
    },
    {
     "name": "stderr",
     "output_type": "stream",
     "text": [
      "2025-06-10 20:28:26.672044: I tensorflow/core/common_runtime/gpu/gpu_device.cc:1929] Created device /job:localhost/replica:0/task:0/device:GPU:0 with 31134 MB memory:  -> device: 0, name: Tesla V100S-PCIE-32GB, pci bus id: 0000:86:00.0, compute capability: 7.0\n"
     ]
    }
   ],
   "source": [
    "# import the trained seq_2_seq model here\n",
    "seq_2_seq_generic_model = tf.keras.models.load_model(\"models/seq_2_seq_generic_model.keras\")"
   ]
  },
  {
   "cell_type": "code",
   "execution_count": 4,
   "id": "c9490008-ea09-4721-ac80-ba7e3a7a8d62",
   "metadata": {},
   "outputs": [],
   "source": [
    "# validation data location\n",
    "validation_data_loc = \"seq_2_seq_valid_data\""
   ]
  },
  {
   "cell_type": "code",
   "execution_count": 5,
   "id": "5ee00c3a-7588-4edd-bd4e-a339a7dd9cb6",
   "metadata": {},
   "outputs": [
    {
     "data": {
      "text/plain": [
       "['block_0204_extracted_input_features.npy',\n",
       " 'block_0204_extracted_target_features.npy']"
      ]
     },
     "execution_count": 5,
     "metadata": {},
     "output_type": "execute_result"
    }
   ],
   "source": [
    "os.listdir(validation_data_loc)"
   ]
  },
  {
   "cell_type": "code",
   "execution_count": 6,
   "id": "250569c1-727b-402c-918d-9f2746a3243f",
   "metadata": {},
   "outputs": [],
   "source": [
    "# load validation data\n",
    "validation_features = np.load(os.path.join(validation_data_loc, 'block_0204_extracted_input_features.npy'))"
   ]
  },
  {
   "cell_type": "code",
   "execution_count": 7,
   "id": "1bf80cf7-7469-40a0-a215-904aa6f4aea6",
   "metadata": {},
   "outputs": [
    {
     "data": {
      "text/plain": [
       "(910, 13, 32)"
      ]
     },
     "execution_count": 7,
     "metadata": {},
     "output_type": "execute_result"
    }
   ],
   "source": [
    "validation_features.shape"
   ]
  },
  {
   "cell_type": "code",
   "execution_count": 8,
   "id": "da95b518-2ab3-4a9b-b060-a1c5e308887c",
   "metadata": {},
   "outputs": [
    {
     "name": "stdout",
     "output_type": "stream",
     "text": [
      "29/29 [==============================] - 1s 9ms/step\n"
     ]
    }
   ],
   "source": [
    "# get the predictions for validation data\n",
    "preds_for_valid_data = seq_2_seq_generic_model.predict(validation_features)"
   ]
  },
  {
   "cell_type": "code",
   "execution_count": 9,
   "id": "7c1f5fcb-7307-4178-a46f-0d8c570b48fd",
   "metadata": {},
   "outputs": [
    {
     "data": {
      "text/plain": [
       "(910, 7, 32)"
      ]
     },
     "execution_count": 9,
     "metadata": {},
     "output_type": "execute_result"
    }
   ],
   "source": [
    "preds_for_valid_data.shape"
   ]
  },
  {
   "cell_type": "code",
   "execution_count": 10,
   "id": "b0494079-0b5f-46be-8756-e0c60a332a12",
   "metadata": {},
   "outputs": [
    {
     "data": {
      "text/plain": [
       "0.3711441"
      ]
     },
     "execution_count": 10,
     "metadata": {},
     "output_type": "execute_result"
    }
   ],
   "source": [
    "# sanity check - check with the mean on script 2\n",
    "preds_for_valid_data.mean()"
   ]
  },
  {
   "cell_type": "code",
   "execution_count": 11,
   "id": "26a7d133-c9d8-404f-acfb-61b78b8139cd",
   "metadata": {},
   "outputs": [],
   "source": [
    "# Let's compute the performance metrics for the validaiton data"
   ]
  },
  {
   "cell_type": "code",
   "execution_count": 12,
   "id": "f889c36d-69ef-4f6e-8545-4dfdd4a152c8",
   "metadata": {},
   "outputs": [],
   "source": [
    "# load the true validation data\n",
    "valid_true = np.load(os.path.join(validation_data_loc, 'block_0204_extracted_target_features.npy'))"
   ]
  },
  {
   "cell_type": "code",
   "execution_count": 13,
   "id": "e3d40f7b-c64a-4d4b-9606-aca718ba7d9b",
   "metadata": {},
   "outputs": [
    {
     "data": {
      "text/plain": [
       "(910, 7, 32)"
      ]
     },
     "execution_count": 13,
     "metadata": {},
     "output_type": "execute_result"
    }
   ],
   "source": [
    "valid_true.shape"
   ]
  },
  {
   "cell_type": "code",
   "execution_count": 14,
   "id": "47c3bbf8-2f1b-4bc2-8677-50e0e5a36ac8",
   "metadata": {},
   "outputs": [],
   "source": [
    "# get the metrics with tensorflow\n",
    "\n",
    "# convert the true and predicted matrices into tensors\n",
    "y_true_tensor_valid = tf.constant(valid_true, dtype = tf.float32)\n",
    "y_pred_tensor_valid = tf.constant(preds_for_valid_data, dtype = tf.float32)"
   ]
  },
  {
   "cell_type": "code",
   "execution_count": 15,
   "id": "8f2d526c-3412-496d-9cef-fb0dddb92c5b",
   "metadata": {},
   "outputs": [
    {
     "data": {
      "text/plain": [
       "(TensorShape([910, 7, 32]), TensorShape([910, 7, 32]))"
      ]
     },
     "execution_count": 15,
     "metadata": {},
     "output_type": "execute_result"
    }
   ],
   "source": [
    "y_true_tensor_valid.shape, y_pred_tensor_valid.shape"
   ]
  },
  {
   "cell_type": "code",
   "execution_count": 16,
   "id": "1f2cca31-aa8c-4801-af3c-9f160b51a035",
   "metadata": {},
   "outputs": [],
   "source": [
    "# define the MAE metric\n",
    "mae_metric_valid = tf.keras.metrics.MeanAbsoluteError()"
   ]
  },
  {
   "cell_type": "code",
   "execution_count": 17,
   "id": "3d1b54d6-a105-41ad-8fd2-02c8f8169178",
   "metadata": {},
   "outputs": [
    {
     "data": {
      "text/plain": [
       "<tf.Variable 'UnreadVariable' shape=() dtype=float32, numpy=6370.0>"
      ]
     },
     "execution_count": 17,
     "metadata": {},
     "output_type": "execute_result"
    }
   ],
   "source": [
    "# update the state of the metric\n",
    "mae_metric_valid.update_state(y_true_tensor_valid, y_pred_tensor_valid)"
   ]
  },
  {
   "cell_type": "code",
   "execution_count": 18,
   "id": "17ab5186-4cd2-433a-b7de-8315674529fa",
   "metadata": {},
   "outputs": [],
   "source": [
    "# Get the result\n",
    "mae_valid = mae_metric_valid.result().numpy()"
   ]
  },
  {
   "cell_type": "code",
   "execution_count": 19,
   "id": "0d0da4ee-a412-4e01-97fc-82b942cb21d0",
   "metadata": {},
   "outputs": [
    {
     "data": {
      "text/plain": [
       "0.15943222"
      ]
     },
     "execution_count": 19,
     "metadata": {},
     "output_type": "execute_result"
    }
   ],
   "source": [
    "mae_valid # This value match the one during training in script 2"
   ]
  },
  {
   "cell_type": "code",
   "execution_count": 20,
   "id": "e8ef0e6a-38a7-4460-8c4f-a016f5cb003a",
   "metadata": {},
   "outputs": [
    {
     "data": {
      "text/plain": [
       "0.15943222"
      ]
     },
     "execution_count": 20,
     "metadata": {},
     "output_type": "execute_result"
    }
   ],
   "source": [
    "# We can also use numpy to get this value directly\n",
    "np.mean(np.abs(valid_true - preds_for_valid_data))"
   ]
  },
  {
   "cell_type": "code",
   "execution_count": 21,
   "id": "6636b911-7e6f-4fda-9de4-287479c48472",
   "metadata": {},
   "outputs": [],
   "source": [
    "# Also get the rmse?\n",
    "\n",
    "# define the MSE metric\n",
    "mse_metric_valid = tf.keras.metrics.MeanSquaredError()"
   ]
  },
  {
   "cell_type": "code",
   "execution_count": 22,
   "id": "16c9d3fb-29da-4e7d-b9a4-a0534bcb3a60",
   "metadata": {},
   "outputs": [
    {
     "data": {
      "text/plain": [
       "<tf.Variable 'UnreadVariable' shape=() dtype=float32, numpy=6370.0>"
      ]
     },
     "execution_count": 22,
     "metadata": {},
     "output_type": "execute_result"
    }
   ],
   "source": [
    "# update the state of the metric\n",
    "mse_metric_valid.update_state(y_true_tensor_valid, y_pred_tensor_valid)"
   ]
  },
  {
   "cell_type": "code",
   "execution_count": 23,
   "id": "148b63d2-33c6-42ac-9c29-77964822e948",
   "metadata": {},
   "outputs": [
    {
     "data": {
      "text/plain": [
       "0.1067442"
      ]
     },
     "execution_count": 23,
     "metadata": {},
     "output_type": "execute_result"
    }
   ],
   "source": [
    "# get the result\n",
    "mse_valid = mse_metric_valid.result().numpy()\n",
    "mse_valid"
   ]
  },
  {
   "cell_type": "code",
   "execution_count": 24,
   "id": "4971d68d-4164-41d2-a5ed-388751065795",
   "metadata": {},
   "outputs": [
    {
     "data": {
      "text/plain": [
       "0.32671732"
      ]
     },
     "execution_count": 24,
     "metadata": {},
     "output_type": "execute_result"
    }
   ],
   "source": [
    "# therefore rmse\n",
    "rmse_valid = np.sqrt(mse_valid)\n",
    "rmse_valid"
   ]
  },
  {
   "cell_type": "code",
   "execution_count": 25,
   "id": "fd556f9e-e141-4ce8-a8b5-b2d0b42d1c48",
   "metadata": {},
   "outputs": [
    {
     "data": {
      "text/plain": [
       "0.32671732"
      ]
     },
     "execution_count": 25,
     "metadata": {},
     "output_type": "execute_result"
    }
   ],
   "source": [
    "# Do this the numpy way?\n",
    "np.sqrt(np.mean((valid_true - preds_for_valid_data)**2))"
   ]
  },
  {
   "cell_type": "code",
   "execution_count": 26,
   "id": "1f0e5d0a-8d26-4a0b-87ae-d78559cbc8a7",
   "metadata": {},
   "outputs": [],
   "source": [
    "# also let's get the pearsonr?\n",
    "\n",
    "valid_true_flat = valid_true.flatten()\n",
    "valid_preds_flat = preds_for_valid_data.flatten()"
   ]
  },
  {
   "cell_type": "code",
   "execution_count": 27,
   "id": "f846446c-3ae8-4ab9-aa35-c65e1b666f6a",
   "metadata": {},
   "outputs": [
    {
     "data": {
      "text/plain": [
       "((203840,), (203840,))"
      ]
     },
     "execution_count": 27,
     "metadata": {},
     "output_type": "execute_result"
    }
   ],
   "source": [
    "valid_true_flat.shape, valid_preds_flat.shape"
   ]
  },
  {
   "cell_type": "code",
   "execution_count": 28,
   "id": "46fe194b-7ef7-4174-9f2b-55d4a0724cd2",
   "metadata": {},
   "outputs": [
    {
     "data": {
      "text/plain": [
       "PearsonRResult(statistic=0.8564887666318884, pvalue=0.0)"
      ]
     },
     "execution_count": 28,
     "metadata": {},
     "output_type": "execute_result"
    }
   ],
   "source": [
    "pearsonr(valid_true_flat, valid_preds_flat)"
   ]
  },
  {
   "cell_type": "code",
   "execution_count": 29,
   "id": "e0295f8f-7dbb-403d-a502-672a55141368",
   "metadata": {},
   "outputs": [
    {
     "data": {
      "text/plain": [
       "0.7335276201093235"
      ]
     },
     "execution_count": 29,
     "metadata": {},
     "output_type": "execute_result"
    }
   ],
   "source": [
    "# let's do r2 score\n",
    "r2_score(valid_true_flat, valid_preds_flat)"
   ]
  },
  {
   "cell_type": "code",
   "execution_count": 30,
   "id": "b4af0519-f673-42c2-ab72-61dd6b6b789c",
   "metadata": {},
   "outputs": [
    {
     "data": {
      "text/plain": [
       "0.15943222"
      ]
     },
     "execution_count": 30,
     "metadata": {},
     "output_type": "execute_result"
    }
   ],
   "source": [
    "mean_absolute_error(valid_true_flat, valid_preds_flat)"
   ]
  },
  {
   "cell_type": "code",
   "execution_count": 31,
   "id": "61d80d38-d681-4c5f-a66c-9e63049b28d5",
   "metadata": {},
   "outputs": [
    {
     "data": {
      "text/plain": [
       "0.1067442"
      ]
     },
     "execution_count": 31,
     "metadata": {},
     "output_type": "execute_result"
    }
   ],
   "source": [
    "mean_squared_error(valid_true_flat, valid_preds_flat)"
   ]
  },
  {
   "cell_type": "code",
   "execution_count": 32,
   "id": "6fe472b1-f28b-404b-ae22-61556a86af6f",
   "metadata": {},
   "outputs": [],
   "source": [
    "# Do this with the test data?"
   ]
  },
  {
   "cell_type": "code",
   "execution_count": 33,
   "id": "7edc8ada-a06c-471b-be25-d18da388b0fc",
   "metadata": {},
   "outputs": [],
   "source": [
    "# Let's do both ways, while I'm sure we only need it the second way, lets just do it the individual block-wise way too"
   ]
  },
  {
   "cell_type": "markdown",
   "id": "82d8dfa9-f569-4770-9c1a-f234b95ee97b",
   "metadata": {},
   "source": [
    "1. Block-wise"
   ]
  },
  {
   "cell_type": "code",
   "execution_count": 34,
   "id": "fe879e75-8088-4607-8952-27ace30c670f",
   "metadata": {},
   "outputs": [],
   "source": [
    "# Let's maybe define a function to compute all the metrics given the features and target matrices"
   ]
  },
  {
   "cell_type": "code",
   "execution_count": 35,
   "id": "c87da298-ea01-44e3-a07a-0ec0f4e9dfd9",
   "metadata": {},
   "outputs": [],
   "source": [
    "# test it out using one block"
   ]
  },
  {
   "cell_type": "code",
   "execution_count": 36,
   "id": "268ab527-19ce-4772-9032-ba19e71e3d49",
   "metadata": {},
   "outputs": [],
   "source": [
    "test_data_loc = 'seq_2_seq_test_data'"
   ]
  },
  {
   "cell_type": "code",
   "execution_count": 37,
   "id": "b95cf042-6533-4434-bb1a-441262f8ad3a",
   "metadata": {},
   "outputs": [],
   "source": [
    "all_preprocessed_test_files = os.listdir(test_data_loc)"
   ]
  },
  {
   "cell_type": "code",
   "execution_count": 38,
   "id": "27fdcab6-91ed-4c67-b74e-e2b2a707da2e",
   "metadata": {},
   "outputs": [],
   "source": [
    "all_preprocessed_test_files.sort()"
   ]
  },
  {
   "cell_type": "code",
   "execution_count": 39,
   "id": "4b111fda-93ce-4caf-8fa7-4f940dd56fdf",
   "metadata": {},
   "outputs": [
    {
     "data": {
      "text/plain": [
       "'block_0103_extracted_input_features.npy'"
      ]
     },
     "execution_count": 39,
     "metadata": {},
     "output_type": "execute_result"
    }
   ],
   "source": [
    "block_0103_features = all_preprocessed_test_files[0]\n",
    "block_0103_features"
   ]
  },
  {
   "cell_type": "code",
   "execution_count": 40,
   "id": "30eff0e7-c2ef-4dbd-bda4-fab649aee87c",
   "metadata": {},
   "outputs": [
    {
     "data": {
      "text/plain": [
       "'block_0103_extracted_target_features.npy'"
      ]
     },
     "execution_count": 40,
     "metadata": {},
     "output_type": "execute_result"
    }
   ],
   "source": [
    "block_0103_targets = all_preprocessed_test_files[1]\n",
    "block_0103_targets"
   ]
  },
  {
   "cell_type": "code",
   "execution_count": 41,
   "id": "807b9c1b-ce10-4712-b20f-b50a47b678b1",
   "metadata": {},
   "outputs": [
    {
     "data": {
      "text/plain": [
       "'input_features'"
      ]
     },
     "execution_count": 41,
     "metadata": {},
     "output_type": "execute_result"
    }
   ],
   "source": [
    "block_0103_features.split(\".\")[0][-14:]"
   ]
  },
  {
   "cell_type": "code",
   "execution_count": 42,
   "id": "fa219855-953d-4ea3-81a1-962d0c0e8a78",
   "metadata": {},
   "outputs": [],
   "source": [
    "def predictions_and_metrics_for_test_data(test_data_loc, test_block_name):\n",
    "    # maybe add some codes for choosing the correct file too\n",
    "    all_contents_in_test_folder = os.listdir(test_data_loc)\n",
    "    block_files = [file for file in all_contents_in_test_folder if file[:10] == test_block_name]\n",
    "\n",
    "    targets_file = [file for file in block_files if file.split(\".\")[0][-15:] == 'target_features'][0]\n",
    "    features_file = [file for file in block_files if file.split(\".\")[0][-14:] == 'input_features'][0]\n",
    "    \n",
    "    # load the features\n",
    "    test_features = np.load(os.path.join(test_data_loc, features_file))\n",
    "    test_targets = np.load(os.path.join(test_data_loc, targets_file))\n",
    "    # get predictions from the model\n",
    "    test_preds = seq_2_seq_generic_model.predict(test_features)\n",
    "    print(test_targets.shape, test_preds.shape)\n",
    "    \n",
    "    # let's just flatten the matrices and compute all metrics\n",
    "    test_flat_targets = test_targets.flatten()\n",
    "    test_flat_preds = test_preds.flatten()\n",
    "    print(test_flat_targets.shape, test_flat_preds.shape)\n",
    "\n",
    "    # compute the metrics\n",
    "    mae = mean_absolute_error(test_flat_targets, test_flat_preds)\n",
    "    mse = mean_squared_error(test_flat_targets, test_flat_preds)\n",
    "    rmse = np.sqrt(mse)\n",
    "    pearson_corr = pearsonr(test_flat_targets, test_flat_preds)\n",
    "    r2_value = r2_score(test_flat_targets, test_flat_preds)\n",
    "\n",
    "    return mae, mse, rmse, pearson_corr[0], r2_value"
   ]
  },
  {
   "cell_type": "code",
   "execution_count": 43,
   "id": "d6a1bd7d-2920-4f14-b37a-d58b7e5a9eb8",
   "metadata": {},
   "outputs": [
    {
     "name": "stdout",
     "output_type": "stream",
     "text": [
      "29/29 [==============================] - 0s 8ms/step\n",
      "(910, 7, 32) (910, 7, 32)\n",
      "(203840,) (203840,)\n"
     ]
    }
   ],
   "source": [
    "# Try this with block 0103\n",
    "blk_0103_mae, blk_0103_mse, blk_0103_rmse, blk_0103_r, blk_0103_r2 = predictions_and_metrics_for_test_data(test_data_loc, 'block_0103')"
   ]
  },
  {
   "cell_type": "code",
   "execution_count": 44,
   "id": "e48f1103-e220-4642-9449-1883b25488e1",
   "metadata": {},
   "outputs": [
    {
     "name": "stdout",
     "output_type": "stream",
     "text": [
      "0.15601262 0.099959336 0.31616345 0.8633312172366329 0.744471232665102\n"
     ]
    }
   ],
   "source": [
    "print(blk_0103_mae, blk_0103_mse, blk_0103_rmse, blk_0103_r, blk_0103_r2)"
   ]
  },
  {
   "cell_type": "code",
   "execution_count": 45,
   "id": "236faf4b-7ed0-4f18-b723-29cfa3e32703",
   "metadata": {},
   "outputs": [
    {
     "data": {
      "text/plain": [
       "(0.15601262, 0.099959336, 0.31616345, 0.8633312172366329, 0.744471232665102)"
      ]
     },
     "execution_count": 45,
     "metadata": {},
     "output_type": "execute_result"
    }
   ],
   "source": [
    "0.15601262, 0.099959336, 0.31616345, 0.8633312172366329, 0.744471232665102"
   ]
  },
  {
   "cell_type": "code",
   "execution_count": 46,
   "id": "4d4167e3-28cf-40c0-b421-207a4a014b71",
   "metadata": {},
   "outputs": [],
   "source": [
    "# Do this for the rest of the blocks"
   ]
  },
  {
   "cell_type": "markdown",
   "id": "78bc8d81-8d8f-44bf-8966-deb07c005b8b",
   "metadata": {},
   "source": [
    "Block 0104"
   ]
  },
  {
   "cell_type": "code",
   "execution_count": 47,
   "id": "960e4987-e747-407f-aa38-62078d9ad364",
   "metadata": {},
   "outputs": [
    {
     "name": "stdout",
     "output_type": "stream",
     "text": [
      "29/29 [==============================] - 0s 6ms/step\n",
      "(910, 7, 32) (910, 7, 32)\n",
      "(203840,) (203840,)\n"
     ]
    }
   ],
   "source": [
    "blk_0104_mae, blk_0104_mse, blk_0104_rmse, blk_0104_r, blk_0104_r2 = predictions_and_metrics_for_test_data(test_data_loc, 'block_0104')"
   ]
  },
  {
   "cell_type": "code",
   "execution_count": 48,
   "id": "8dd87035-c760-4329-acdf-c1961c9d29d2",
   "metadata": {},
   "outputs": [
    {
     "data": {
      "text/plain": [
       "(0.14248763, 0.089720406, 0.29953364, 0.8945826753075663, 0.797020548338786)"
      ]
     },
     "execution_count": 48,
     "metadata": {},
     "output_type": "execute_result"
    }
   ],
   "source": [
    "blk_0104_mae, blk_0104_mse, blk_0104_rmse, blk_0104_r, blk_0104_r2"
   ]
  },
  {
   "cell_type": "markdown",
   "id": "4e36a099-c233-4c5d-9f33-817a837e4910",
   "metadata": {},
   "source": [
    "Block 0105"
   ]
  },
  {
   "cell_type": "code",
   "execution_count": 49,
   "id": "ff73e8a6-c6bb-45f7-99a6-237e361d4940",
   "metadata": {},
   "outputs": [
    {
     "name": "stdout",
     "output_type": "stream",
     "text": [
      "29/29 [==============================] - 0s 6ms/step\n",
      "(910, 7, 32) (910, 7, 32)\n",
      "(203840,) (203840,)\n"
     ]
    }
   ],
   "source": [
    "blk_0105_mae, blk_0105_mse, blk_0105_rmse, blk_0105_r, blk_0105_r2 = predictions_and_metrics_for_test_data(test_data_loc, 'block_0105')"
   ]
  },
  {
   "cell_type": "code",
   "execution_count": 50,
   "id": "d6c844ee-9b35-4059-9ed0-66a4996b2408",
   "metadata": {},
   "outputs": [
    {
     "data": {
      "text/plain": [
       "(0.14917079, 0.09445538, 0.30733594, 0.8857926481740191, 0.7789711134835442)"
      ]
     },
     "execution_count": 50,
     "metadata": {},
     "output_type": "execute_result"
    }
   ],
   "source": [
    "blk_0105_mae, blk_0105_mse, blk_0105_rmse, blk_0105_r, blk_0105_r2"
   ]
  },
  {
   "cell_type": "markdown",
   "id": "140d242c-3a5f-4389-9663-720b7411ba1b",
   "metadata": {},
   "source": [
    "Block 0106"
   ]
  },
  {
   "cell_type": "code",
   "execution_count": 51,
   "id": "28190c20-3158-4310-926f-f614aeb48741",
   "metadata": {},
   "outputs": [
    {
     "name": "stdout",
     "output_type": "stream",
     "text": [
      "29/29 [==============================] - 0s 7ms/step\n",
      "(910, 7, 32) (910, 7, 32)\n",
      "(203840,) (203840,)\n"
     ]
    }
   ],
   "source": [
    "blk_0106_mae, blk_0106_mse, blk_0106_rmse, blk_0106_r, blk_0106_r2 = predictions_and_metrics_for_test_data(test_data_loc, 'block_0106')"
   ]
  },
  {
   "cell_type": "code",
   "execution_count": 52,
   "id": "cb73e9bf-4042-438c-bf44-0b1181bccf86",
   "metadata": {},
   "outputs": [
    {
     "data": {
      "text/plain": [
       "(0.13985209, 0.086053915, 0.29334947, 0.8962599964327399, 0.7995956046679267)"
      ]
     },
     "execution_count": 52,
     "metadata": {},
     "output_type": "execute_result"
    }
   ],
   "source": [
    "blk_0106_mae, blk_0106_mse, blk_0106_rmse, blk_0106_r, blk_0106_r2"
   ]
  },
  {
   "cell_type": "markdown",
   "id": "75f24d40-d85e-4dd3-b404-5e0ed9a80e38",
   "metadata": {},
   "source": [
    "Block 0201"
   ]
  },
  {
   "cell_type": "code",
   "execution_count": 53,
   "id": "41c19284-ae2e-48ce-9a72-11b5de80b707",
   "metadata": {},
   "outputs": [
    {
     "name": "stdout",
     "output_type": "stream",
     "text": [
      "29/29 [==============================] - 0s 7ms/step\n",
      "(910, 7, 32) (910, 7, 32)\n",
      "(203840,) (203840,)\n"
     ]
    }
   ],
   "source": [
    "blk_0201_mae, blk_0201_mse, blk_0201_rmse, blk_0201_r, blk_0201_r2 = predictions_and_metrics_for_test_data(test_data_loc, 'block_0201')"
   ]
  },
  {
   "cell_type": "code",
   "execution_count": 54,
   "id": "860a7d33-3fae-4da8-a637-2fd1d6706c92",
   "metadata": {},
   "outputs": [
    {
     "data": {
      "text/plain": [
       "(0.1577407, 0.104686856, 0.32355347, 0.8573014277182002, 0.7342941224679029)"
      ]
     },
     "execution_count": 54,
     "metadata": {},
     "output_type": "execute_result"
    }
   ],
   "source": [
    "blk_0201_mae, blk_0201_mse, blk_0201_rmse, blk_0201_r, blk_0201_r2"
   ]
  },
  {
   "cell_type": "markdown",
   "id": "dc3ee2a9-cbe7-4055-a5e4-a46ea3decdbf",
   "metadata": {},
   "source": [
    "Block 0202"
   ]
  },
  {
   "cell_type": "code",
   "execution_count": 55,
   "id": "376ee14f-49d0-4d53-851b-3cefb7984433",
   "metadata": {},
   "outputs": [
    {
     "name": "stdout",
     "output_type": "stream",
     "text": [
      "29/29 [==============================] - 0s 6ms/step\n",
      "(910, 7, 32) (910, 7, 32)\n",
      "(203840,) (203840,)\n"
     ]
    }
   ],
   "source": [
    "blk_0202_mae, blk_0202_mse, blk_0202_rmse, blk_0202_r, blk_0202_r2 = predictions_and_metrics_for_test_data(test_data_loc, 'block_0202')"
   ]
  },
  {
   "cell_type": "code",
   "execution_count": 56,
   "id": "153284ae-beb1-47e9-879e-aed864fb8adc",
   "metadata": {},
   "outputs": [
    {
     "data": {
      "text/plain": [
       "(0.16074643, 0.105793566, 0.32525924, 0.8396027613871067, 0.7019627172187048)"
      ]
     },
     "execution_count": 56,
     "metadata": {},
     "output_type": "execute_result"
    }
   ],
   "source": [
    "blk_0202_mae, blk_0202_mse, blk_0202_rmse, blk_0202_r, blk_0202_r2"
   ]
  },
  {
   "cell_type": "markdown",
   "id": "dcf9d2eb-6630-4fd0-88ff-c5004f5713e2",
   "metadata": {},
   "source": [
    "Block 0205"
   ]
  },
  {
   "cell_type": "code",
   "execution_count": 57,
   "id": "3895ef58-9cd9-4960-9826-95b18ab804b8",
   "metadata": {},
   "outputs": [
    {
     "name": "stdout",
     "output_type": "stream",
     "text": [
      "29/29 [==============================] - 0s 5ms/step\n",
      "(910, 7, 32) (910, 7, 32)\n",
      "(203840,) (203840,)\n"
     ]
    }
   ],
   "source": [
    "blk_0205_mae, blk_0205_mse, blk_0205_rmse, blk_0205_r, blk_0205_r2 = predictions_and_metrics_for_test_data(test_data_loc, 'block_0205')"
   ]
  },
  {
   "cell_type": "code",
   "execution_count": 58,
   "id": "fb42c11d-30cc-4644-a880-2a81edab13b9",
   "metadata": {},
   "outputs": [
    {
     "data": {
      "text/plain": [
       "(0.14196524, 0.08925282, 0.2987521, 0.8967382270371432, 0.79953003272503)"
      ]
     },
     "execution_count": 58,
     "metadata": {},
     "output_type": "execute_result"
    }
   ],
   "source": [
    "blk_0205_mae, blk_0205_mse, blk_0205_rmse, blk_0205_r, blk_0205_r2"
   ]
  },
  {
   "cell_type": "markdown",
   "id": "bca43154-7984-469f-b380-2717b8ddea8b",
   "metadata": {},
   "source": [
    "Block 0206"
   ]
  },
  {
   "cell_type": "code",
   "execution_count": 59,
   "id": "eb16e80b-560b-4194-914f-fd9fd05749b8",
   "metadata": {},
   "outputs": [
    {
     "name": "stdout",
     "output_type": "stream",
     "text": [
      "29/29 [==============================] - 0s 6ms/step\n",
      "(910, 7, 32) (910, 7, 32)\n",
      "(203840,) (203840,)\n"
     ]
    }
   ],
   "source": [
    "blk_0206_mae, blk_0206_mse, blk_0206_rmse, blk_0206_r, blk_0206_r2 = predictions_and_metrics_for_test_data(test_data_loc, 'block_0206')"
   ]
  },
  {
   "cell_type": "code",
   "execution_count": 60,
   "id": "e95aa007-2d9f-4e66-85cf-4d8d2424cbb7",
   "metadata": {},
   "outputs": [
    {
     "data": {
      "text/plain": [
       "(0.17179392, 0.12505318, 0.3536286, 0.8297091886667658, 0.6875895694401083)"
      ]
     },
     "execution_count": 60,
     "metadata": {},
     "output_type": "execute_result"
    }
   ],
   "source": [
    "blk_0206_mae, blk_0206_mse, blk_0206_rmse, blk_0206_r, blk_0206_r2"
   ]
  },
  {
   "cell_type": "markdown",
   "id": "c92322dd-22ad-4235-b73d-ba60bf23485d",
   "metadata": {},
   "source": [
    "Block 0302"
   ]
  },
  {
   "cell_type": "code",
   "execution_count": 61,
   "id": "9c2aabf1-183f-4305-901b-1c6e6780a270",
   "metadata": {},
   "outputs": [
    {
     "name": "stdout",
     "output_type": "stream",
     "text": [
      "29/29 [==============================] - 0s 6ms/step\n",
      "(910, 7, 32) (910, 7, 32)\n",
      "(203840,) (203840,)\n"
     ]
    }
   ],
   "source": [
    "blk_0302_mae, blk_0302_mse, blk_0302_rmse, blk_0302_r, blk_0302_r2 = predictions_and_metrics_for_test_data(test_data_loc, 'block_0302')"
   ]
  },
  {
   "cell_type": "code",
   "execution_count": 62,
   "id": "6c31bb56-2e68-4804-9a3c-e6688ca68ace",
   "metadata": {},
   "outputs": [
    {
     "data": {
      "text/plain": [
       "(0.15553218, 0.10348547, 0.32169157, 0.8578087340483902, 0.7354855608118599)"
      ]
     },
     "execution_count": 62,
     "metadata": {},
     "output_type": "execute_result"
    }
   ],
   "source": [
    "blk_0302_mae, blk_0302_mse, blk_0302_rmse, blk_0302_r, blk_0302_r2"
   ]
  },
  {
   "cell_type": "markdown",
   "id": "2d8a3f54-64f9-433d-9cff-0bb6aa3b93e0",
   "metadata": {},
   "source": [
    "Block 0303"
   ]
  },
  {
   "cell_type": "code",
   "execution_count": 63,
   "id": "9058d927-b156-4909-8c48-54a3b5545bee",
   "metadata": {},
   "outputs": [
    {
     "name": "stdout",
     "output_type": "stream",
     "text": [
      "29/29 [==============================] - 0s 6ms/step\n",
      "(910, 7, 32) (910, 7, 32)\n",
      "(203840,) (203840,)\n"
     ]
    }
   ],
   "source": [
    "blk_0303_mae, blk_0303_mse, blk_0303_rmse, blk_0303_r, blk_0303_r2 = predictions_and_metrics_for_test_data(test_data_loc, 'block_0303')"
   ]
  },
  {
   "cell_type": "code",
   "execution_count": 64,
   "id": "e17b6674-5263-45c7-88b4-c5468b2ad24f",
   "metadata": {},
   "outputs": [
    {
     "data": {
      "text/plain": [
       "(0.14828412, 0.09245285, 0.3040606, 0.8664186237762366, 0.7506468068597054)"
      ]
     },
     "execution_count": 64,
     "metadata": {},
     "output_type": "execute_result"
    }
   ],
   "source": [
    "blk_0303_mae, blk_0303_mse, blk_0303_rmse, blk_0303_r, blk_0303_r2"
   ]
  },
  {
   "cell_type": "markdown",
   "id": "09fbbe0f-c19d-40e2-bd87-b56575f2eedd",
   "metadata": {},
   "source": [
    "Block 0304"
   ]
  },
  {
   "cell_type": "code",
   "execution_count": 65,
   "id": "a6f4b079-571f-45c0-8c0e-e50bd1166e38",
   "metadata": {},
   "outputs": [
    {
     "name": "stdout",
     "output_type": "stream",
     "text": [
      "29/29 [==============================] - 0s 5ms/step\n",
      "(910, 7, 32) (910, 7, 32)\n",
      "(203840,) (203840,)\n"
     ]
    }
   ],
   "source": [
    "blk_0304_mae, blk_0304_mse, blk_0304_rmse, blk_0304_r, blk_0304_r2 = predictions_and_metrics_for_test_data(test_data_loc, 'block_0304')"
   ]
  },
  {
   "cell_type": "code",
   "execution_count": 66,
   "id": "a7bcd287-828e-4d85-9081-d3eae98020ab",
   "metadata": {},
   "outputs": [
    {
     "data": {
      "text/plain": [
       "(0.14681453, 0.09236957, 0.30392364, 0.877196116722412, 0.7688358809118414)"
      ]
     },
     "execution_count": 66,
     "metadata": {},
     "output_type": "execute_result"
    }
   ],
   "source": [
    "blk_0304_mae, blk_0304_mse, blk_0304_rmse, blk_0304_r, blk_0304_r2"
   ]
  },
  {
   "cell_type": "markdown",
   "id": "e803e1a8-eefc-432e-8ccc-b422596792ae",
   "metadata": {},
   "source": [
    "Block 0305"
   ]
  },
  {
   "cell_type": "code",
   "execution_count": 67,
   "id": "1bd6fc31-0c41-4182-bcf2-724559d7ff93",
   "metadata": {},
   "outputs": [
    {
     "name": "stdout",
     "output_type": "stream",
     "text": [
      "29/29 [==============================] - 0s 6ms/step\n",
      "(910, 7, 32) (910, 7, 32)\n",
      "(203840,) (203840,)\n"
     ]
    }
   ],
   "source": [
    "blk_0305_mae, blk_0305_mse, blk_0305_rmse, blk_0305_r, blk_0305_r2 = predictions_and_metrics_for_test_data(test_data_loc, 'block_0305')"
   ]
  },
  {
   "cell_type": "code",
   "execution_count": 68,
   "id": "6e850c26-6610-4d16-9d12-479f624f14ad",
   "metadata": {},
   "outputs": [
    {
     "data": {
      "text/plain": [
       "(0.16429992, 0.112498455, 0.33540788, 0.8447891176604796, 0.7134830023075813)"
      ]
     },
     "execution_count": 68,
     "metadata": {},
     "output_type": "execute_result"
    }
   ],
   "source": [
    "blk_0305_mae, blk_0305_mse, blk_0305_rmse, blk_0305_r, blk_0305_r2"
   ]
  },
  {
   "cell_type": "markdown",
   "id": "5dd168a1-ab9b-449e-99b2-5ca9cb17e2c4",
   "metadata": {},
   "source": [
    "Block 0306"
   ]
  },
  {
   "cell_type": "code",
   "execution_count": 69,
   "id": "080c2e88-5541-49a8-b0dc-a2c28aad862d",
   "metadata": {},
   "outputs": [
    {
     "name": "stdout",
     "output_type": "stream",
     "text": [
      "29/29 [==============================] - 0s 5ms/step\n",
      "(910, 7, 32) (910, 7, 32)\n",
      "(203840,) (203840,)\n"
     ]
    }
   ],
   "source": [
    "blk_0306_mae, blk_0306_mse, blk_0306_rmse, blk_0306_r, blk_0306_r2 = predictions_and_metrics_for_test_data(test_data_loc, 'block_0306')"
   ]
  },
  {
   "cell_type": "code",
   "execution_count": 70,
   "id": "74ebde73-3779-446c-b0ed-25c8f9993ae9",
   "metadata": {},
   "outputs": [
    {
     "data": {
      "text/plain": [
       "(0.15772247, 0.10659945, 0.3264957, 0.8570999949437654, 0.7346187831503386)"
      ]
     },
     "execution_count": 70,
     "metadata": {},
     "output_type": "execute_result"
    }
   ],
   "source": [
    "blk_0306_mae, blk_0306_mse, blk_0306_rmse, blk_0306_r, blk_0306_r2"
   ]
  },
  {
   "cell_type": "markdown",
   "id": "f796677f-f825-45ec-b20c-ca57756c893e",
   "metadata": {},
   "source": [
    "2. All test data "
   ]
  },
  {
   "cell_type": "code",
   "execution_count": 71,
   "id": "ce70bae3-b0dc-4346-a887-7ea885852c3f",
   "metadata": {},
   "outputs": [],
   "source": [
    "# Okay, need to combine all the data first "
   ]
  },
  {
   "cell_type": "code",
   "execution_count": 72,
   "id": "e5415c53-6591-4049-abf9-cae9d01f9f6d",
   "metadata": {},
   "outputs": [],
   "source": [
    "# load the datasets again\n",
    "all_preprocessed_test_files.sort()"
   ]
  },
  {
   "cell_type": "code",
   "execution_count": 73,
   "id": "c7fde73a-b6af-4d5d-81ad-01a2c17fd929",
   "metadata": {},
   "outputs": [],
   "source": [
    "# separate the features and input matrices\n",
    "all_input_features = [file for file in all_preprocessed_test_files if file.split('.')[0][-14:] == 'input_features']"
   ]
  },
  {
   "cell_type": "code",
   "execution_count": 74,
   "id": "24002fea-acb5-4e85-a65c-d40ec2b40fee",
   "metadata": {},
   "outputs": [],
   "source": [
    "all_target_features = [file for file in all_preprocessed_test_files if file.split('.')[0][-15:] == 'target_features']"
   ]
  },
  {
   "cell_type": "code",
   "execution_count": 75,
   "id": "8bf4e1e3-594d-4ea0-8922-b449cd6a69a9",
   "metadata": {},
   "outputs": [
    {
     "data": {
      "text/plain": [
       "(13, 13)"
      ]
     },
     "execution_count": 75,
     "metadata": {},
     "output_type": "execute_result"
    }
   ],
   "source": [
    "len(all_input_features), len(all_target_features)"
   ]
  },
  {
   "cell_type": "code",
   "execution_count": 76,
   "id": "cf96d282-69c7-4b74-9a6a-73b6f3203563",
   "metadata": {},
   "outputs": [
    {
     "name": "stdout",
     "output_type": "stream",
     "text": [
      "CPU times: user 19 ms, sys: 206 ms, total: 225 ms\n",
      "Wall time: 14.2 ms\n"
     ]
    }
   ],
   "source": [
    "%%time\n",
    "# load all the feature files together\n",
    "catch_all_input_feature_matrices = []\n",
    "for file in all_input_features:\n",
    "    loaded_file = np.load(os.path.join(test_data_loc, file))\n",
    "    catch_all_input_feature_matrices.append(loaded_file)\n",
    "    "
   ]
  },
  {
   "cell_type": "code",
   "execution_count": 77,
   "id": "da60e9ea-5421-456e-a299-67abbe5aaaeb",
   "metadata": {},
   "outputs": [
    {
     "data": {
      "text/plain": [
       "13"
      ]
     },
     "execution_count": 77,
     "metadata": {},
     "output_type": "execute_result"
    }
   ],
   "source": [
    "len(catch_all_input_feature_matrices)"
   ]
  },
  {
   "cell_type": "code",
   "execution_count": 78,
   "id": "4b23ca39-cc8b-4acd-a7ce-fceb76029621",
   "metadata": {},
   "outputs": [
    {
     "data": {
      "text/plain": [
       "(910, 13, 32)"
      ]
     },
     "execution_count": 78,
     "metadata": {},
     "output_type": "execute_result"
    }
   ],
   "source": [
    "catch_all_input_feature_matrices[0].shape"
   ]
  },
  {
   "cell_type": "code",
   "execution_count": 79,
   "id": "61963228-56f3-4e09-a2c3-808f248edcc6",
   "metadata": {},
   "outputs": [],
   "source": [
    "# stack all these vertically along the 0th axis\n",
    "test_input_features = np.vstack(catch_all_input_feature_matrices)"
   ]
  },
  {
   "cell_type": "code",
   "execution_count": 80,
   "id": "3c7bd938-3b73-4714-93e8-c7bb16bdc9b6",
   "metadata": {},
   "outputs": [
    {
     "data": {
      "text/plain": [
       "(11830, 13, 32)"
      ]
     },
     "execution_count": 80,
     "metadata": {},
     "output_type": "execute_result"
    }
   ],
   "source": [
    "test_input_features.shape"
   ]
  },
  {
   "cell_type": "code",
   "execution_count": 81,
   "id": "c0757c9b-9d03-4531-9d2b-047f97db84d7",
   "metadata": {},
   "outputs": [
    {
     "name": "stdout",
     "output_type": "stream",
     "text": [
      "features: 0\n",
      "1.0\n",
      "features: 1\n",
      "1.0\n",
      "features: 2\n",
      "1.0\n",
      "features: 3\n",
      "1.0\n",
      "features: 4\n",
      "1.0\n",
      "features: 5\n",
      "1.0\n",
      "features: 6\n",
      "1.0\n",
      "features: 7\n",
      "1.0\n",
      "features: 8\n",
      "1.0\n",
      "features: 9\n",
      "1.0\n",
      "features: 10\n",
      "1.0\n",
      "features: 11\n",
      "1.0\n",
      "features: 12\n",
      "1.0\n"
     ]
    }
   ],
   "source": [
    "# check randomly if the stacking is right\n",
    "for i in range(len(catch_all_input_feature_matrices)):\n",
    "    print(\"features:\", i)\n",
    "    print(np.mean(catch_all_input_feature_matrices[i] == test_input_features[910*i: 910*(i+1), :, :]))"
   ]
  },
  {
   "cell_type": "code",
   "execution_count": 82,
   "id": "a0987b6b-2537-4fdd-bcb7-44002db85027",
   "metadata": {},
   "outputs": [],
   "source": [
    "# Also stack targets"
   ]
  },
  {
   "cell_type": "code",
   "execution_count": 83,
   "id": "e98542c9-d96d-42c5-8399-4a0b58ba379d",
   "metadata": {},
   "outputs": [
    {
     "name": "stdout",
     "output_type": "stream",
     "text": [
      "CPU times: user 932 µs, sys: 8.84 ms, total: 9.78 ms\n",
      "Wall time: 9.4 ms\n"
     ]
    }
   ],
   "source": [
    "%%time\n",
    "# load all the feature files together\n",
    "catch_all_target_matrices = []\n",
    "for file in all_target_features:\n",
    "    loaded_file = np.load(os.path.join(test_data_loc, file))\n",
    "    catch_all_target_matrices.append(loaded_file)"
   ]
  },
  {
   "cell_type": "code",
   "execution_count": 84,
   "id": "14bed963-9c86-4429-b3a1-9a3a2ca30514",
   "metadata": {},
   "outputs": [
    {
     "data": {
      "text/plain": [
       "13"
      ]
     },
     "execution_count": 84,
     "metadata": {},
     "output_type": "execute_result"
    }
   ],
   "source": [
    "len(catch_all_target_matrices)"
   ]
  },
  {
   "cell_type": "code",
   "execution_count": 85,
   "id": "4a34b619-9f36-4174-a143-128ec9ccc789",
   "metadata": {},
   "outputs": [
    {
     "data": {
      "text/plain": [
       "(910, 7, 32)"
      ]
     },
     "execution_count": 85,
     "metadata": {},
     "output_type": "execute_result"
    }
   ],
   "source": [
    "catch_all_target_matrices[0].shape"
   ]
  },
  {
   "cell_type": "code",
   "execution_count": 86,
   "id": "c611bb76-1646-4da9-a90e-8e6a2e1af30e",
   "metadata": {},
   "outputs": [],
   "source": [
    "# stack these\n",
    "test_targets = np.vstack(catch_all_target_matrices)"
   ]
  },
  {
   "cell_type": "code",
   "execution_count": 87,
   "id": "ceaac3fd-c3d9-42c0-951d-896776bb8959",
   "metadata": {},
   "outputs": [
    {
     "data": {
      "text/plain": [
       "(11830, 7, 32)"
      ]
     },
     "execution_count": 87,
     "metadata": {},
     "output_type": "execute_result"
    }
   ],
   "source": [
    "test_targets.shape"
   ]
  },
  {
   "cell_type": "code",
   "execution_count": 88,
   "id": "e7a24f46-0347-4c0c-92d3-56f53ca0fee3",
   "metadata": {},
   "outputs": [
    {
     "name": "stdout",
     "output_type": "stream",
     "text": [
      "targets: 0\n",
      "1.0\n",
      "targets: 1\n",
      "1.0\n",
      "targets: 2\n",
      "1.0\n",
      "targets: 3\n",
      "1.0\n",
      "targets: 4\n",
      "1.0\n",
      "targets: 5\n",
      "1.0\n",
      "targets: 6\n",
      "1.0\n",
      "targets: 7\n",
      "1.0\n",
      "targets: 8\n",
      "1.0\n",
      "targets: 9\n",
      "1.0\n",
      "targets: 10\n",
      "1.0\n",
      "targets: 11\n",
      "1.0\n",
      "targets: 12\n",
      "1.0\n"
     ]
    }
   ],
   "source": [
    "# check randomly if the stacking is right\n",
    "for i in range(len(catch_all_target_matrices)):\n",
    "    print(\"targets:\", i)\n",
    "    print(np.mean(catch_all_target_matrices[i] == test_targets[910*i: 910*(i+1), :, :]))"
   ]
  },
  {
   "cell_type": "code",
   "execution_count": 89,
   "id": "db576817-fd21-4746-9fcb-7821499ff617",
   "metadata": {},
   "outputs": [],
   "source": [
    "# Okay, now let's get the model predictions on all test data"
   ]
  },
  {
   "cell_type": "code",
   "execution_count": 90,
   "id": "1bf4d349-7358-468a-be9f-476da91e5766",
   "metadata": {},
   "outputs": [],
   "source": [
    "# Do this in a function"
   ]
  },
  {
   "cell_type": "code",
   "execution_count": 91,
   "id": "ab5b729f-3ce1-41ac-84ed-ce4eed3c283b",
   "metadata": {},
   "outputs": [],
   "source": [
    "def metrics_for_all_test_data(all_input_features, all_targets):\n",
    "    \n",
    "    # get predictions from the model\n",
    "    test_preds = seq_2_seq_generic_model.predict(all_input_features)\n",
    "    print(test_preds.shape)\n",
    "    \n",
    "    # let's just flatten the matrices and compute all metrics\n",
    "    test_flat_targets = all_targets.flatten()\n",
    "    test_flat_preds = test_preds.flatten()\n",
    "    print(test_flat_targets.shape, test_flat_preds.shape)\n",
    "\n",
    "    # compute the metrics\n",
    "    mae = mean_absolute_error(test_flat_targets, test_flat_preds)\n",
    "    mse = mean_squared_error(test_flat_targets, test_flat_preds)\n",
    "    rmse = np.sqrt(mse)\n",
    "    pearson_corr = pearsonr(test_flat_targets, test_flat_preds)\n",
    "    r2_value = r2_score(test_flat_targets, test_flat_preds)\n",
    "\n",
    "    return mae, mse, rmse, pearson_corr[0], r2_value"
   ]
  },
  {
   "cell_type": "code",
   "execution_count": 92,
   "id": "f44dc5db-b667-4c64-a681-0cfdc204711c",
   "metadata": {},
   "outputs": [
    {
     "name": "stdout",
     "output_type": "stream",
     "text": [
      "370/370 [==============================] - 3s 8ms/step\n",
      "(11830, 7, 32)\n",
      "(2649920,) (2649920,)\n"
     ]
    }
   ],
   "source": [
    "all_test_mae, all_test_mse, all_test_rmse, all_test_r, all_test_r2 = metrics_for_all_test_data(test_input_features, test_targets)"
   ]
  },
  {
   "cell_type": "code",
   "execution_count": 93,
   "id": "d36b46b0-fa09-4110-880f-127e762a25e3",
   "metadata": {},
   "outputs": [
    {
     "data": {
      "text/plain": [
       "(0.1532633, 0.10018315, 0.31651723, 0.8673123076335503, 0.7517599163553234)"
      ]
     },
     "execution_count": 93,
     "metadata": {},
     "output_type": "execute_result"
    }
   ],
   "source": [
    "all_test_mae, all_test_mse, all_test_rmse, all_test_r, all_test_r2"
   ]
  }
 ],
 "metadata": {
  "kernelspec": {
   "display_name": "Python (nrdstor_tfp_for_TN)",
   "language": "python",
   "name": "nrdstor_tfp_for_tn"
  },
  "language_info": {
   "codemirror_mode": {
    "name": "ipython",
    "version": 3
   },
   "file_extension": ".py",
   "mimetype": "text/x-python",
   "name": "python",
   "nbconvert_exporter": "python",
   "pygments_lexer": "ipython3",
   "version": "3.10.14"
  }
 },
 "nbformat": 4,
 "nbformat_minor": 5
}
