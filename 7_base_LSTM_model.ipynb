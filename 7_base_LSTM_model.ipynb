{
 "cells": [
  {
   "cell_type": "code",
   "execution_count": 1,
   "id": "eeac31c1-dedf-47a5-baf6-1ed8f7437179",
   "metadata": {},
   "outputs": [
    {
     "name": "stderr",
     "output_type": "stream",
     "text": [
      "2025-06-19 18:41:51.570815: I tensorflow/core/platform/cpu_feature_guard.cc:193] This TensorFlow binary is optimized with oneAPI Deep Neural Network Library (oneDNN) to use the following CPU instructions in performance-critical operations:  SSE4.1 SSE4.2 AVX AVX2 AVX512F AVX512_VNNI FMA\n",
      "To enable them in other operations, rebuild TensorFlow with the appropriate compiler flags.\n",
      "2025-06-19 18:41:54.324021: I tensorflow/core/util/port.cc:104] oneDNN custom operations are on. You may see slightly different numerical results due to floating-point round-off errors from different computation orders. To turn them off, set the environment variable `TF_ENABLE_ONEDNN_OPTS=0`.\n"
     ]
    }
   ],
   "source": [
    "import tensorflow as tf\n",
    "from tensorflow.keras.models import Model\n",
    "from tensorflow.keras.layers import Input, LSTM, Dense, RepeatVector, TimeDistributed"
   ]
  },
  {
   "cell_type": "code",
   "execution_count": 2,
   "id": "e13aa366-f090-4098-ab38-4e1612ce5837",
   "metadata": {},
   "outputs": [
    {
     "name": "stderr",
     "output_type": "stream",
     "text": [
      "2025-06-19 18:42:51.609720: W tensorflow/compiler/xla/stream_executor/platform/default/dso_loader.cc:64] Could not load dynamic library 'libcuda.so.1'; dlerror: libcuda.so.1: cannot open shared object file: No such file or directory; LD_LIBRARY_PATH: :\n",
      "2025-06-19 18:42:51.609781: W tensorflow/compiler/xla/stream_executor/cuda/cuda_driver.cc:265] failed call to cuInit: UNKNOWN ERROR (303)\n",
      "2025-06-19 18:42:51.609813: I tensorflow/compiler/xla/stream_executor/cuda/cuda_diagnostics.cc:156] kernel driver does not appear to be running on this host (c2522.swan.hcc.unl.edu): /proc/driver/nvidia/version does not exist\n",
      "2025-06-19 18:42:51.610214: I tensorflow/core/platform/cpu_feature_guard.cc:193] This TensorFlow binary is optimized with oneAPI Deep Neural Network Library (oneDNN) to use the following CPU instructions in performance-critical operations:  SSE4.1 SSE4.2 AVX AVX2 AVX512F AVX512_VNNI FMA\n",
      "To enable them in other operations, rebuild TensorFlow with the appropriate compiler flags.\n"
     ]
    },
    {
     "name": "stdout",
     "output_type": "stream",
     "text": [
      "Model: \"model\"\n",
      "__________________________________________________________________________________________________\n",
      " Layer (type)                   Output Shape         Param #     Connected to                     \n",
      "==================================================================================================\n",
      " input_sequence (InputLayer)    [(None, 13, 32)]     0           []                               \n",
      "                                                                                                  \n",
      " encoder_lstm (LSTM)            [(None, 64),         24832       ['input_sequence[0][0]']         \n",
      "                                 (None, 64),                                                      \n",
      "                                 (None, 64)]                                                      \n",
      "                                                                                                  \n",
      " repeat_vector (RepeatVector)   (None, 7, 64)        0           ['encoder_lstm[0][0]']           \n",
      "                                                                                                  \n",
      " decoder_lstm (LSTM)            (None, 7, 64)        33024       ['repeat_vector[0][0]',          \n",
      "                                                                  'encoder_lstm[0][1]',           \n",
      "                                                                  'encoder_lstm[0][2]']           \n",
      "                                                                                                  \n",
      " output (TimeDistributed)       (None, 7, 1)         65          ['decoder_lstm[0][0]']           \n",
      "                                                                                                  \n",
      "==================================================================================================\n",
      "Total params: 57,921\n",
      "Trainable params: 57,921\n",
      "Non-trainable params: 0\n",
      "__________________________________________________________________________________________________\n"
     ]
    }
   ],
   "source": [
    "# Input shape: (batch_size, 13, 32)\n",
    "input_seq = Input(shape=(13, 32), name='input_sequence')\n",
    "\n",
    "# Encoder LSTM\n",
    "encoder_output, state_h, state_c = LSTM(64, return_state=True, name='encoder_lstm')(input_seq)\n",
    "encoder_states = [state_h, state_c]\n",
    "\n",
    "# Repeat context vector for each of the 7 future time points\n",
    "decoder_input = RepeatVector(7)(encoder_output)\n",
    "\n",
    "# Decoder LSTM\n",
    "decoder_lstm = LSTM(64, return_sequences=True, name='decoder_lstm')\n",
    "decoder_output = decoder_lstm(decoder_input, initial_state=encoder_states)\n",
    "\n",
    "# Output dense layer to produce 1 value per time step\n",
    "output = TimeDistributed(Dense(1), name='output')(decoder_output)\n",
    "\n",
    "# Define and compile model\n",
    "model = Model(inputs=input_seq, outputs=output)\n",
    "model.compile(optimizer='adam', loss='mse', metrics=['mae'])\n",
    "\n",
    "model.summary()"
   ]
  },
  {
   "cell_type": "code",
   "execution_count": null,
   "id": "7df0577e-e985-41f5-8a4c-214dad84ce03",
   "metadata": {},
   "outputs": [],
   "source": []
  }
 ],
 "metadata": {
  "kernelspec": {
   "display_name": "Python (nrdstor_deepcdr_improve_env)",
   "language": "python",
   "name": "nrdstor_deepcdr_improve_env"
  },
  "language_info": {
   "codemirror_mode": {
    "name": "ipython",
    "version": 3
   },
   "file_extension": ".py",
   "mimetype": "text/x-python",
   "name": "python",
   "nbconvert_exporter": "python",
   "pygments_lexer": "ipython3",
   "version": "3.8.16"
  }
 },
 "nbformat": 4,
 "nbformat_minor": 5
}
